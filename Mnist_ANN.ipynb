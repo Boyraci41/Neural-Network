{
  "nbformat": 4,
  "nbformat_minor": 0,
  "metadata": {
    "colab": {
      "name": "Mnist -ANN",
      "provenance": [],
      "collapsed_sections": [],
      "authorship_tag": "ABX9TyMKsDfwaCVKR5MmG9xps57E",
      "include_colab_link": true
    },
    "kernelspec": {
      "name": "python3",
      "display_name": "Python 3"
    }
  },
  "cells": [
    {
      "cell_type": "markdown",
      "metadata": {
        "id": "view-in-github",
        "colab_type": "text"
      },
      "source": [
        "<a href=\"https://colab.research.google.com/github/Boyraci41/Neural-Network/blob/master/Mnist_ANN.ipynb\" target=\"_parent\"><img src=\"https://colab.research.google.com/assets/colab-badge.svg\" alt=\"Open In Colab\"/></a>"
      ]
    },
    {
      "cell_type": "code",
      "metadata": {
        "id": "c9sXh05QVOeS",
        "colab_type": "code",
        "colab": {}
      },
      "source": [
        "import keras\n",
        "from keras.datasets import mnist\n",
        "from keras.models import Sequential\n",
        "from keras.layers import Dense,Dropout\n",
        "from keras.optimizers import RMSprop\n",
        "import numba"
      ],
      "execution_count": 0,
      "outputs": []
    },
    {
      "cell_type": "code",
      "metadata": {
        "id": "l8_ZqLBUb_SO",
        "colab_type": "code",
        "outputId": "a4f23be3-76dc-4516-9ee4-011a5857d754",
        "colab": {
          "base_uri": "https://localhost:8080/",
          "height": 51
        }
      },
      "source": [
        "(x_train,y_train),(x_test,y_test)=mnist.load_data()"
      ],
      "execution_count": 0,
      "outputs": [
        {
          "output_type": "stream",
          "text": [
            "Downloading data from https://s3.amazonaws.com/img-datasets/mnist.npz\n",
            "11493376/11490434 [==============================] - 2s 0us/step\n"
          ],
          "name": "stdout"
        }
      ]
    },
    {
      "cell_type": "code",
      "metadata": {
        "id": "g_KdmXv8VV0s",
        "colab_type": "code",
        "colab": {}
      },
      "source": [
        "x_train = x_train.reshape(60000, 784)\n",
        "x_test = x_test.reshape(10000, 784) \n",
        "x_train = x_train.astype('float32') \n",
        "x_test = x_test.astype('float32') \n",
        "x_train /= 255 \n",
        "x_test /= 255 \n",
        "y_train = keras.utils.to_categorical(y_train, 10) \n",
        "y_test = keras.utils.to_categorical(y_test, 10) "
      ],
      "execution_count": 0,
      "outputs": []
    },
    {
      "cell_type": "code",
      "metadata": {
        "id": "rUV5V0wxV9Qd",
        "colab_type": "code",
        "outputId": "6527fb74-5daa-459a-d3ac-c20e8c57b883",
        "colab": {
          "base_uri": "https://localhost:8080/",
          "height": 714
        }
      },
      "source": [
        "  model=Sequential()\n",
        "  model.add(Dense(512,activation=\"relu\",input_shape=(784,)))\n",
        "  model.add(Dropout(0.2))\n",
        "  model.add(Dense(512,activation=\"relu\"))\n",
        "  model.add(Dropout(0.2))\n",
        "  model.add(Dense(10, activation = 'softmax'))\n",
        "model.compile(loss = 'categorical_crossentropy', \n",
        "   optimizer = RMSprop(), \n",
        "   metrics = ['accuracy']) \n",
        "\n",
        "history = model.fit(x_train, y_train, \n",
        "   batch_size = 128, epochs = 20, verbose = 1, validation_data = (x_test, y_test))\n"
      ],
      "execution_count": 0,
      "outputs": [
        {
          "output_type": "stream",
          "text": [
            "Train on 60000 samples, validate on 10000 samples\n",
            "Epoch 1/20\n",
            "60000/60000 [==============================] - 8s 140us/step - loss: 0.2469 - accuracy: 0.9246 - val_loss: 0.1039 - val_accuracy: 0.9686\n",
            "Epoch 2/20\n",
            "60000/60000 [==============================] - 8s 134us/step - loss: 0.1023 - accuracy: 0.9693 - val_loss: 0.0802 - val_accuracy: 0.9761\n",
            "Epoch 3/20\n",
            "60000/60000 [==============================] - 8s 134us/step - loss: 0.0768 - accuracy: 0.9770 - val_loss: 0.0683 - val_accuracy: 0.9805\n",
            "Epoch 4/20\n",
            "60000/60000 [==============================] - 8s 134us/step - loss: 0.0591 - accuracy: 0.9822 - val_loss: 0.0888 - val_accuracy: 0.9762\n",
            "Epoch 5/20\n",
            "60000/60000 [==============================] - 8s 133us/step - loss: 0.0524 - accuracy: 0.9839 - val_loss: 0.0810 - val_accuracy: 0.9803\n",
            "Epoch 6/20\n",
            "60000/60000 [==============================] - 8s 134us/step - loss: 0.0445 - accuracy: 0.9863 - val_loss: 0.0702 - val_accuracy: 0.9818\n",
            "Epoch 7/20\n",
            "60000/60000 [==============================] - 8s 134us/step - loss: 0.0380 - accuracy: 0.9887 - val_loss: 0.0736 - val_accuracy: 0.9820\n",
            "Epoch 8/20\n",
            "60000/60000 [==============================] - 8s 134us/step - loss: 0.0335 - accuracy: 0.9902 - val_loss: 0.0886 - val_accuracy: 0.9809\n",
            "Epoch 9/20\n",
            "60000/60000 [==============================] - 8s 135us/step - loss: 0.0315 - accuracy: 0.9908 - val_loss: 0.0875 - val_accuracy: 0.9823\n",
            "Epoch 10/20\n",
            "60000/60000 [==============================] - 8s 134us/step - loss: 0.0271 - accuracy: 0.9918 - val_loss: 0.1031 - val_accuracy: 0.9819\n",
            "Epoch 11/20\n",
            "60000/60000 [==============================] - 8s 134us/step - loss: 0.0263 - accuracy: 0.9923 - val_loss: 0.1047 - val_accuracy: 0.9807\n",
            "Epoch 12/20\n",
            "60000/60000 [==============================] - 8s 137us/step - loss: 0.0247 - accuracy: 0.9925 - val_loss: 0.1124 - val_accuracy: 0.9789\n",
            "Epoch 13/20\n",
            "60000/60000 [==============================] - 8s 134us/step - loss: 0.0237 - accuracy: 0.9930 - val_loss: 0.1093 - val_accuracy: 0.9799\n",
            "Epoch 14/20\n",
            "60000/60000 [==============================] - 8s 135us/step - loss: 0.0210 - accuracy: 0.9936 - val_loss: 0.1143 - val_accuracy: 0.9817\n",
            "Epoch 15/20\n",
            "60000/60000 [==============================] - 8s 135us/step - loss: 0.0213 - accuracy: 0.9938 - val_loss: 0.0988 - val_accuracy: 0.9835\n",
            "Epoch 16/20\n",
            "60000/60000 [==============================] - 8s 137us/step - loss: 0.0188 - accuracy: 0.9950 - val_loss: 0.1101 - val_accuracy: 0.9809\n",
            "Epoch 17/20\n",
            "60000/60000 [==============================] - 8s 135us/step - loss: 0.0211 - accuracy: 0.9945 - val_loss: 0.1128 - val_accuracy: 0.9828\n",
            "Epoch 18/20\n",
            "60000/60000 [==============================] - 8s 134us/step - loss: 0.0171 - accuracy: 0.9953 - val_loss: 0.1520 - val_accuracy: 0.9814\n",
            "Epoch 19/20\n",
            "60000/60000 [==============================] - 8s 135us/step - loss: 0.0170 - accuracy: 0.9954 - val_loss: 0.1140 - val_accuracy: 0.9842\n",
            "Epoch 20/20\n",
            "60000/60000 [==============================] - 8s 133us/step - loss: 0.0191 - accuracy: 0.9951 - val_loss: 0.1063 - val_accuracy: 0.9849\n"
          ],
          "name": "stdout"
        }
      ]
    },
    {
      "cell_type": "code",
      "metadata": {
        "id": "aNGR0XxpWmJc",
        "colab_type": "code",
        "colab": {}
      },
      "source": [
        ""
      ],
      "execution_count": 0,
      "outputs": []
    }
  ]
}