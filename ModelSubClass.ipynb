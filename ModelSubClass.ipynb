{
  "nbformat": 4,
  "nbformat_minor": 0,
  "metadata": {
    "colab": {
      "name": "ModelSubClass",
      "provenance": [],
      "collapsed_sections": [],
      "authorship_tag": "ABX9TyMedd/Zzldb/GkiJ8Xwoe8s"
    },
    "kernelspec": {
      "name": "python3",
      "display_name": "Python 3"
    }
  },
  "cells": [
    {
      "cell_type": "code",
      "metadata": {
        "id": "czESnL7KBNqc",
        "colab_type": "code",
        "colab": {
          "base_uri": "https://localhost:8080/",
          "height": 34
        },
        "outputId": "49a5025c-93b2-48d5-bc46-d52b85d2d551"
      },
      "source": [
        "import keras "
      ],
      "execution_count": 1,
      "outputs": [
        {
          "output_type": "stream",
          "text": [
            "Using TensorFlow backend.\n"
          ],
          "name": "stderr"
        }
      ]
    },
    {
      "cell_type": "code",
      "metadata": {
        "id": "LJARJeD0Dpjn",
        "colab_type": "code",
        "colab": {}
      },
      "source": [
        "class SimpleMLP(keras.Model):\n",
        "  def __init__(self,use_bn=False,use_dp=False,num_classes=10):\n",
        "    super(SimpleMLP,self).__init__(name=\"mlp\")\n",
        "    self.use_bn=use_bn\n",
        "    self.use_dp=use_dp\n",
        "    self.num_classes=num_classes\n",
        "\n",
        "    self.dense1=keras.layers.Dense(32,activation=\"relu\")\n",
        "    self.dense2=keras.layers.Dense(num_classes,activation=\"softmax\")\n",
        "\n",
        "    if self.use_dp:\n",
        "      self.dp=keras.layers.Dropout(0.5)\n",
        "    if self.use_bn:\n",
        "      self.bn=keras.layers.BatchNormalization(axis=-1)\n",
        "    \n",
        "\n",
        "    def call(self,inputs):\n",
        "      x=self.dense1(inputs)\n",
        "       x = self.dense1(inputs)\n",
        "        if self.use_dp:\n",
        "            x = self.dp(x)\n",
        "        if self.use_bn:\n",
        "            x = self.bn(x)\n",
        "        return self.dense2(x)\n",
        "\n",
        "model=SimpleMLP()\n",
        "model.compile(...)\n",
        "model.fit(...)\n"
      ],
      "execution_count": 0,
      "outputs": []
    },
    {
      "cell_type": "code",
      "metadata": {
        "id": "uEn96caWFPI6",
        "colab_type": "code",
        "colab": {}
      },
      "source": [
        ""
      ],
      "execution_count": 0,
      "outputs": []
    }
  ]
}