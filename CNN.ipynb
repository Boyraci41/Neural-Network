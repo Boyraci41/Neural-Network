{
  "nbformat": 4,
  "nbformat_minor": 0,
  "metadata": {
    "colab": {
      "name": "CNN",
      "provenance": [],
      "collapsed_sections": [],
      "authorship_tag": "ABX9TyPBTgHz3p7qRYxO2+9HyBjy",
      "include_colab_link": true
    },
    "kernelspec": {
      "name": "python3",
      "display_name": "Python 3"
    }
  },
  "cells": [
    {
      "cell_type": "markdown",
      "metadata": {
        "id": "view-in-github",
        "colab_type": "text"
      },
      "source": [
        "<a href=\"https://colab.research.google.com/github/Boyraci41/Neural-Network/blob/master/CNN.ipynb\" target=\"_parent\"><img src=\"https://colab.research.google.com/assets/colab-badge.svg\" alt=\"Open In Colab\"/></a>"
      ]
    },
    {
      "cell_type": "code",
      "metadata": {
        "id": "gIv_1x15DIN9",
        "colab_type": "code",
        "colab": {}
      },
      "source": [
        "import tensorflow as tf\n",
        "\n"
      ],
      "execution_count": 0,
      "outputs": []
    },
    {
      "cell_type": "code",
      "metadata": {
        "id": "06Tu0snkDQdi",
        "colab_type": "code",
        "colab": {}
      },
      "source": [
        "def generate_model():\n",
        "  model=tf.keras.Sequential([\n",
        "  #first layer\n",
        "  tf.keras.layers.Conv2D(32,filter_size=3,activation=\"relu\")\n",
        "  tf.keras.layers.MaxPool2D(pool_size=2,strides=2)\n",
        "\n",
        "  #Second Layer\n",
        "  tf.keras.layers.Conv2D(64,filter_size=3,activation=\"relu\")\n",
        "   tf.keras.layers.MaxPool2D(pool_size=2,strides=2)\n",
        "\n",
        "   #Fully Connected Classifier\n",
        "   tf.keras.layers.Flatten()\n",
        "   tf.keras.layers.Dense(1024,activation=\"relu\")\n",
        "   tf.keras.layers.Dense(10,activation=\"softmax\")\n",
        "   ])\n",
        "  \n",
        "  return model;\n",
        "\n"
      ],
      "execution_count": 0,
      "outputs": []
    },
    {
      "cell_type": "code",
      "metadata": {
        "id": "iXho2kJxOUcZ",
        "colab_type": "code",
        "colab": {}
      },
      "source": [
        ""
      ],
      "execution_count": 0,
      "outputs": []
    }
  ]
}