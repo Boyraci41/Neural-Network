{
  "nbformat": 4,
  "nbformat_minor": 0,
  "metadata": {
    "colab": {
      "name": "LSTM-RNN PREDİCT for İMDB",
      "provenance": [],
      "authorship_tag": "ABX9TyNv5xPl0m+QP86F7UDTOl+G",
      "include_colab_link": true
    },
    "kernelspec": {
      "name": "python3",
      "display_name": "Python 3"
    }
  },
  "cells": [
    {
      "cell_type": "markdown",
      "metadata": {
        "id": "view-in-github",
        "colab_type": "text"
      },
      "source": [
        "<a href=\"https://colab.research.google.com/github/Boyraci41/Neural-Network/blob/master/LSTM_RNN_PRED%C4%B0CT_for_%C4%B0MDB.ipynb\" target=\"_parent\"><img src=\"https://colab.research.google.com/assets/colab-badge.svg\" alt=\"Open In Colab\"/></a>"
      ]
    },
    {
      "cell_type": "code",
      "metadata": {
        "id": "izWUFN-Mbjwx",
        "colab_type": "code",
        "colab": {
          "base_uri": "https://localhost:8080/",
          "height": 34
        },
        "outputId": "b0b265c6-40d0-4796-9a43-4f418a241bfb"
      },
      "source": [
        "from keras.preprocessing import sequence\n",
        "from keras.models import Sequential\n",
        "from keras.layers import Dense,Embedding,LSTM\n",
        "from keras.datasets import imdb\n",
        "from numba import jit"
      ],
      "execution_count": 1,
      "outputs": [
        {
          "output_type": "stream",
          "text": [
            "Using TensorFlow backend.\n"
          ],
          "name": "stderr"
        }
      ]
    },
    {
      "cell_type": "code",
      "metadata": {
        "id": "aSDtS2fGfojL",
        "colab_type": "code",
        "colab": {}
      },
      "source": [
        "(x_train, y_train), (x_test, y_test) = imdb.load_data(num_words = 2000)\n",
        "\n",
        "x_train = sequence.pad_sequences(x_train, maxlen=80) \n",
        "x_test = sequence.pad_sequences(x_test, maxlen=80)\n"
      ],
      "execution_count": 0,
      "outputs": []
    },
    {
      "cell_type": "code",
      "metadata": {
        "id": "deZNjL3Lg0Oy",
        "colab_type": "code",
        "colab": {}
      },
      "source": [
        "model=Sequential()\n",
        "model.add(Embedding(2000,128))\n",
        "model.add(LSTM(128,dropout=0.2,recurrent_dropout=0.2))\n",
        "model.add(Dense(1,activation=\"sigmoid\"))"
      ],
      "execution_count": 0,
      "outputs": []
    },
    {
      "cell_type": "code",
      "metadata": {
        "id": "7MbQrnO4hg_7",
        "colab_type": "code",
        "colab": {
          "base_uri": "https://localhost:8080/",
          "height": 615
        },
        "outputId": "7a57deac-014f-4caa-d500-ec3f7a366f59"
      },
      "source": [
        "model.compile(loss = 'binary_crossentropy', \n",
        "   optimizer = 'adam', metrics = ['accuracy'])\n",
        "model.fit(\n",
        "   x_train, y_train, \n",
        "   batch_size = 32, \n",
        "   epochs = 15, \n",
        "   validation_data = (x_test, y_test)\n",
        ")"
      ],
      "execution_count": 9,
      "outputs": [
        {
          "output_type": "stream",
          "text": [
            "/usr/local/lib/python3.6/dist-packages/tensorflow/python/framework/indexed_slices.py:434: UserWarning: Converting sparse IndexedSlices to a dense Tensor of unknown shape. This may consume a large amount of memory.\n",
            "  \"Converting sparse IndexedSlices to a dense Tensor of unknown shape. \"\n"
          ],
          "name": "stderr"
        },
        {
          "output_type": "stream",
          "text": [
            "Train on 25000 samples, validate on 25000 samples\n",
            "Epoch 1/15\n",
            "25000/25000 [==============================] - 113s 5ms/step - loss: 0.4870 - accuracy: 0.7669 - val_loss: 0.4517 - val_accuracy: 0.7942\n",
            "Epoch 2/15\n",
            "25000/25000 [==============================] - 113s 5ms/step - loss: 0.3929 - accuracy: 0.8282 - val_loss: 0.3780 - val_accuracy: 0.8336\n",
            "Epoch 3/15\n",
            "25000/25000 [==============================] - 113s 5ms/step - loss: 0.3562 - accuracy: 0.8442 - val_loss: 0.3807 - val_accuracy: 0.8368\n",
            "Epoch 4/15\n",
            "25000/25000 [==============================] - 114s 5ms/step - loss: 0.3238 - accuracy: 0.8612 - val_loss: 0.3711 - val_accuracy: 0.8344\n",
            "Epoch 5/15\n",
            "25000/25000 [==============================] - 114s 5ms/step - loss: 0.3009 - accuracy: 0.8723 - val_loss: 0.3693 - val_accuracy: 0.8361\n",
            "Epoch 6/15\n",
            "25000/25000 [==============================] - 114s 5ms/step - loss: 0.2805 - accuracy: 0.8822 - val_loss: 0.3841 - val_accuracy: 0.8327\n",
            "Epoch 7/15\n",
            "25000/25000 [==============================] - 113s 5ms/step - loss: 0.2553 - accuracy: 0.8940 - val_loss: 0.3988 - val_accuracy: 0.8303\n",
            "Epoch 8/15\n",
            "25000/25000 [==============================] - 113s 5ms/step - loss: 0.2351 - accuracy: 0.9037 - val_loss: 0.4119 - val_accuracy: 0.8340\n",
            "Epoch 9/15\n",
            "25000/25000 [==============================] - 113s 5ms/step - loss: 0.2148 - accuracy: 0.9114 - val_loss: 0.4254 - val_accuracy: 0.8278\n",
            "Epoch 10/15\n",
            "25000/25000 [==============================] - 112s 4ms/step - loss: 0.2015 - accuracy: 0.9189 - val_loss: 0.4484 - val_accuracy: 0.8242\n",
            "Epoch 11/15\n",
            "25000/25000 [==============================] - 113s 5ms/step - loss: 0.1795 - accuracy: 0.9286 - val_loss: 0.4754 - val_accuracy: 0.8235\n",
            "Epoch 12/15\n",
            "25000/25000 [==============================] - 113s 5ms/step - loss: 0.1665 - accuracy: 0.9324 - val_loss: 0.5233 - val_accuracy: 0.8234\n",
            "Epoch 13/15\n",
            "25000/25000 [==============================] - 113s 5ms/step - loss: 0.1531 - accuracy: 0.9403 - val_loss: 0.5234 - val_accuracy: 0.8179\n",
            "Epoch 14/15\n",
            "25000/25000 [==============================] - 113s 5ms/step - loss: 0.1378 - accuracy: 0.9453 - val_loss: 0.5837 - val_accuracy: 0.8236\n",
            "Epoch 15/15\n",
            "25000/25000 [==============================] - 114s 5ms/step - loss: 0.1224 - accuracy: 0.9521 - val_loss: 0.5776 - val_accuracy: 0.8179\n"
          ],
          "name": "stdout"
        },
        {
          "output_type": "execute_result",
          "data": {
            "text/plain": [
              "<keras.callbacks.callbacks.History at 0x7fccb3794e10>"
            ]
          },
          "metadata": {
            "tags": []
          },
          "execution_count": 9
        }
      ]
    },
    {
      "cell_type": "code",
      "metadata": {
        "id": "evAsOCsUht1g",
        "colab_type": "code",
        "colab": {
          "base_uri": "https://localhost:8080/",
          "height": 68
        },
        "outputId": "c7811328-a183-403c-ecbd-d02e4204b81f"
      },
      "source": [
        "score,acc=model.evaluate(x_test,y_test,batch_size=32)\n",
        "print(\"Test Score :\",score)\n",
        "print(\"Test Accuracy :\", acc)"
      ],
      "execution_count": 11,
      "outputs": [
        {
          "output_type": "stream",
          "text": [
            "25000/25000 [==============================] - 23s 914us/step\n",
            "Test Score : 0.5776308720588684\n",
            "Test Accuracy : 0.8179200291633606\n"
          ],
          "name": "stdout"
        }
      ]
    },
    {
      "cell_type": "code",
      "metadata": {
        "id": "yv42UScvupbT",
        "colab_type": "code",
        "colab": {}
      },
      "source": [
        ""
      ],
      "execution_count": 0,
      "outputs": []
    }
  ]
}