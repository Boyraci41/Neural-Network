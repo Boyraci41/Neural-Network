{
  "nbformat": 4,
  "nbformat_minor": 0,
  "metadata": {
    "colab": {
      "name": "Word Embedding",
      "provenance": [],
      "collapsed_sections": [],
      "authorship_tag": "ABX9TyNnAJFVwRWe6WMDhMe/dPxp",
      "include_colab_link": true
    },
    "kernelspec": {
      "name": "python3",
      "display_name": "Python 3"
    }
  },
  "cells": [
    {
      "cell_type": "markdown",
      "metadata": {
        "id": "view-in-github",
        "colab_type": "text"
      },
      "source": [
        "<a href=\"https://colab.research.google.com/github/Boyraci41/Neural-Network/blob/master/Word_Embedding.ipynb\" target=\"_parent\"><img src=\"https://colab.research.google.com/assets/colab-badge.svg\" alt=\"Open In Colab\"/></a>"
      ]
    },
    {
      "cell_type": "code",
      "metadata": {
        "id": "hCAsOfrctXzB",
        "colab_type": "code",
        "colab": {}
      },
      "source": [
        "import tensorflow as tf\n",
        "from tensorflow import keras\n",
        "from tensorflow.keras import layers\n",
        "import tensorflow_datasets as tfds\n",
        "tfds.disable_progress_bar()"
      ],
      "execution_count": 0,
      "outputs": []
    },
    {
      "cell_type": "code",
      "metadata": {
        "id": "CrIcJDqjtg-J",
        "colab_type": "code",
        "colab": {
          "base_uri": "https://localhost:8080/",
          "height": 122
        },
        "outputId": "1682ddb3-eb3a-4a73-b647-51f81d957b40"
      },
      "source": [
        "(train_data,test_data),info = tfds.load('imdb_reviews/subwords8k', split = (tfds.Split.TRAIN, tfds.Split.TEST),with_info=True, as_supervised=True)"
      ],
      "execution_count": 3,
      "outputs": [
        {
          "output_type": "stream",
          "text": [
            "\u001b[1mDownloading and preparing dataset imdb_reviews/subwords8k/1.0.0 (download: 80.23 MiB, generated: Unknown size, total: 80.23 MiB) to /root/tensorflow_datasets/imdb_reviews/subwords8k/1.0.0...\u001b[0m\n",
            "Shuffling and writing examples to /root/tensorflow_datasets/imdb_reviews/subwords8k/1.0.0.incomplete4BA26L/imdb_reviews-train.tfrecord\n",
            "Shuffling and writing examples to /root/tensorflow_datasets/imdb_reviews/subwords8k/1.0.0.incomplete4BA26L/imdb_reviews-test.tfrecord\n",
            "Shuffling and writing examples to /root/tensorflow_datasets/imdb_reviews/subwords8k/1.0.0.incomplete4BA26L/imdb_reviews-unsupervised.tfrecord\n",
            "\u001b[1mDataset imdb_reviews downloaded and prepared to /root/tensorflow_datasets/imdb_reviews/subwords8k/1.0.0. Subsequent calls will reuse this data.\u001b[0m\n"
          ],
          "name": "stdout"
        }
      ]
    },
    {
      "cell_type": "code",
      "metadata": {
        "id": "6r9JqEmbtv8m",
        "colab_type": "code",
        "colab": {}
      },
      "source": [
        "\n",
        "encoder = info.features[\"text\"].encoder\n",
        "encoder.subwords[:20]"
      ],
      "execution_count": 0,
      "outputs": []
    },
    {
      "cell_type": "code",
      "metadata": {
        "id": "g8b0popSuNGE",
        "colab_type": "code",
        "colab": {}
      },
      "source": [
        "train_batches = train_data.shuffle(1000).padded_batch(10)\n",
        "test_batches = test_data.shuffle(1000).padded_batch(10)\n",
        "\n"
      ],
      "execution_count": 0,
      "outputs": []
    },
    {
      "cell_type": "code",
      "metadata": {
        "id": "Mk2O6URcGhmw",
        "colab_type": "code",
        "colab": {
          "base_uri": "https://localhost:8080/",
          "height": 136
        },
        "outputId": "f66f2a90-d69f-438d-c7e6-abbb9fa1952e"
      },
      "source": [
        "train_batch,train_labels =next(iter(train_batches))\n",
        "\n"
      ],
      "execution_count": 9,
      "outputs": [
        {
          "output_type": "execute_result",
          "data": {
            "text/plain": [
              "array([[  12,   18, 2974, ...,    0,    0,    0],\n",
              "       [1078, 8002, 7968, ..., 3683, 1448, 8033],\n",
              "       [  62,   27,   96, ...,    0,    0,    0],\n",
              "       ...,\n",
              "       [7963,   19, 2686, ...,    0,    0,    0],\n",
              "       [ 518,    1, 3039, ...,    0,    0,    0],\n",
              "       [2540,    2,   12, ...,    0,    0,    0]])"
            ]
          },
          "metadata": {
            "tags": []
          },
          "execution_count": 9
        }
      ]
    },
    {
      "cell_type": "code",
      "metadata": {
        "id": "ifIq1S-UHBxt",
        "colab_type": "code",
        "colab": {
          "base_uri": "https://localhost:8080/",
          "height": 34
        },
        "outputId": "e20b3a3a-247d-483e-eb63-3f33e9c0c1c8"
      },
      "source": [
        "train_batch.numpy().shape"
      ],
      "execution_count": 10,
      "outputs": [
        {
          "output_type": "execute_result",
          "data": {
            "text/plain": [
              "(10, 626)"
            ]
          },
          "metadata": {
            "tags": []
          },
          "execution_count": 10
        }
      ]
    },
    {
      "cell_type": "code",
      "metadata": {
        "id": "QsKFgVX-HKk3",
        "colab_type": "code",
        "colab": {
          "base_uri": "https://localhost:8080/",
          "height": 357
        },
        "outputId": "562d61c1-f9b0-41a4-9d9a-c8a6ad0f838f"
      },
      "source": [
        "embedding_dim = 16\n",
        "\n",
        "model = keras.Sequential([\n",
        "                           layers.Embedding(encoder.vocab_size,embedding_dim),\n",
        "                           layers.GlobalAveragePooling1D(),\n",
        "                          layers.Dense(16),\n",
        "                          layers.Dense(1)\n",
        "\n",
        "])\n",
        "\n",
        "\n",
        "model.compile(optimizer = \"adam\",loss = tf.keras.losses.BinaryCrossentropy(from_logits=True),metrics = [\"accuracy\"])\n",
        "history = model.fit(train_batches,epochs =10,validation_data = test_batches,validation_steps=20)"
      ],
      "execution_count": 28,
      "outputs": [
        {
          "output_type": "stream",
          "text": [
            "Epoch 1/10\n",
            "2500/2500 [==============================] - 11s 4ms/step - loss: 0.4720 - accuracy: 0.7267 - val_loss: 0.4272 - val_accuracy: 0.8350\n",
            "Epoch 2/10\n",
            "2500/2500 [==============================] - 11s 4ms/step - loss: 0.2689 - accuracy: 0.8902 - val_loss: 0.3912 - val_accuracy: 0.8750\n",
            "Epoch 3/10\n",
            "2500/2500 [==============================] - 11s 4ms/step - loss: 0.2203 - accuracy: 0.9120 - val_loss: 0.3699 - val_accuracy: 0.8350\n",
            "Epoch 4/10\n",
            "2500/2500 [==============================] - 11s 4ms/step - loss: 0.1871 - accuracy: 0.9275 - val_loss: 0.4878 - val_accuracy: 0.8200\n",
            "Epoch 5/10\n",
            "2500/2500 [==============================] - 11s 4ms/step - loss: 0.1682 - accuracy: 0.9359 - val_loss: 0.4771 - val_accuracy: 0.8650\n",
            "Epoch 6/10\n",
            "2500/2500 [==============================] - 11s 4ms/step - loss: 0.1529 - accuracy: 0.9407 - val_loss: 0.5922 - val_accuracy: 0.8550\n",
            "Epoch 7/10\n",
            "2500/2500 [==============================] - 11s 4ms/step - loss: 0.1353 - accuracy: 0.9474 - val_loss: 0.3880 - val_accuracy: 0.8700\n",
            "Epoch 8/10\n",
            "2500/2500 [==============================] - 11s 4ms/step - loss: 0.1254 - accuracy: 0.9510 - val_loss: 0.6724 - val_accuracy: 0.8150\n",
            "Epoch 9/10\n",
            "2500/2500 [==============================] - 11s 4ms/step - loss: 0.1182 - accuracy: 0.9561 - val_loss: 0.6840 - val_accuracy: 0.8500\n",
            "Epoch 10/10\n",
            "2500/2500 [==============================] - 11s 4ms/step - loss: 0.1075 - accuracy: 0.9588 - val_loss: 0.7626 - val_accuracy: 0.8150\n"
          ],
          "name": "stdout"
        }
      ]
    },
    {
      "cell_type": "code",
      "metadata": {
        "id": "XAlAakuaMTNL",
        "colab_type": "code",
        "colab": {}
      },
      "source": [
        "import matplotlib.pyplot as plt\n",
        "\n",
        "history_dict =history.history\n",
        "\n",
        "acc = history_dict[\"accuracy\"]\n",
        "val_acc = history = history_dict[\"val_accuracy\"]\n",
        "loss=history_dict['loss']\n",
        "val_loss=history_dict['val_loss']\n",
        "\n",
        "epochs =range(1,len(acc)+1)\n",
        "\n",
        "\n",
        "plt.figure(figsize=(12,9))\n",
        "plt.plot(epochs, loss, 'bo', label='Training loss')\n",
        "plt.plot(epochs, val_loss, 'b', label='Validation loss')\n",
        "plt.title('Training and validation loss')\n",
        "plt.xlabel('Epochs')\n",
        "plt.ylabel('Loss')\n",
        "plt.legend()\n",
        "plt.show()\n",
        "\n",
        "\n",
        "\n",
        "\n",
        "plt.figure(figsize=(12,9))\n",
        "plt.plot(epochs, acc, 'bo', label='Training acc')\n",
        "plt.plot(epochs, val_acc, 'b', label='Validation acc')\n",
        "plt.title('Training and validation accuracy')\n",
        "plt.xlabel('Epochs')\n",
        "plt.ylabel('Accuracy')\n",
        "plt.legend(loc='lower right')\n",
        "plt.ylim((0.5,1))\n",
        "plt.show()\n"
      ],
      "execution_count": 0,
      "outputs": []
    },
    {
      "cell_type": "code",
      "metadata": {
        "id": "_OEyt_sgOKpl",
        "colab_type": "code",
        "colab": {}
      },
      "source": [
        ""
      ],
      "execution_count": 0,
      "outputs": []
    }
  ]
}