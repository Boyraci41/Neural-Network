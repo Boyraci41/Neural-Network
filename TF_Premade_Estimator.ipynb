{
  "nbformat": 4,
  "nbformat_minor": 0,
  "metadata": {
    "colab": {
      "name": "TF-Premade Estimator",
      "provenance": [],
      "collapsed_sections": [],
      "authorship_tag": "ABX9TyP4Gq4lVKC3vPvxthn8LDH6"
    },
    "kernelspec": {
      "name": "python3",
      "display_name": "Python 3"
    }
  },
  "cells": [
    {
      "cell_type": "code",
      "metadata": {
        "id": "zFco17WaKu4_",
        "colab_type": "code",
        "colab": {}
      },
      "source": [
        "\"\"\"\n",
        "  Data Set\n",
        "  \n",
        "  İris veri seti sepal ve petals yaprak türlerine göre 3 farklı sınıfa ayırır.\n",
        "  Features : sepal length ,sepal width ,petal length,petal width\n",
        "  Labels   :Setosa,Versicolar,Virginica\n",
        "\"\"\"\n",
        "\n",
        "\n"
      ],
      "execution_count": 0,
      "outputs": []
    },
    {
      "cell_type": "code",
      "metadata": {
        "id": "HcGuXiKFh6fg",
        "colab_type": "code",
        "colab": {}
      },
      "source": [
        "import tensorflow as tf\n",
        "\n",
        "import pandas as pd\n",
        "\n",
        "CSV_COLUMN_NAMES = ['SepalLength', 'SepalWidth', 'PetalLength', 'PetalWidth', 'Species']\n",
        "SPECIES = ['Setosa', 'Versicolor', 'Virginica']"
      ],
      "execution_count": 0,
      "outputs": []
    },
    {
      "cell_type": "code",
      "metadata": {
        "id": "bjcnW3ZVh-li",
        "colab_type": "code",
        "outputId": "41ce6071-6e2f-49b5-887f-8583653f9fc1",
        "colab": {
          "base_uri": "https://localhost:8080/",
          "height": 292
        }
      },
      "source": [
        "#Train ve Test Verileri İndirelim\n",
        "train_path = tf.keras.utils.get_file(\n",
        "    \"iris_training.csv\", \"https://storage.googleapis.com/download.tensorflow.org/data/iris_training.csv\")\n",
        "test_path = tf.keras.utils.get_file(\n",
        "    \"iris_test.csv\", \"https://storage.googleapis.com/download.tensorflow.org/data/iris_test.csv\")\n",
        "\n",
        "train = pd.read_csv(train_path, names=CSV_COLUMN_NAMES, header=0)\n",
        "test = pd.read_csv(test_path, names=CSV_COLUMN_NAMES, header=0)\n",
        "\n",
        "train.head()"
      ],
      "execution_count": 4,
      "outputs": [
        {
          "output_type": "stream",
          "text": [
            "Downloading data from https://storage.googleapis.com/download.tensorflow.org/data/iris_training.csv\n",
            "8192/2194 [================================================================================================================] - 0s 0us/step\n",
            "Downloading data from https://storage.googleapis.com/download.tensorflow.org/data/iris_test.csv\n",
            "8192/573 [============================================================================================================================================================================================================================================================================================================================================================================================================================================] - 0s 0us/step\n"
          ],
          "name": "stdout"
        },
        {
          "output_type": "execute_result",
          "data": {
            "text/html": [
              "<div>\n",
              "<style scoped>\n",
              "    .dataframe tbody tr th:only-of-type {\n",
              "        vertical-align: middle;\n",
              "    }\n",
              "\n",
              "    .dataframe tbody tr th {\n",
              "        vertical-align: top;\n",
              "    }\n",
              "\n",
              "    .dataframe thead th {\n",
              "        text-align: right;\n",
              "    }\n",
              "</style>\n",
              "<table border=\"1\" class=\"dataframe\">\n",
              "  <thead>\n",
              "    <tr style=\"text-align: right;\">\n",
              "      <th></th>\n",
              "      <th>SepalLength</th>\n",
              "      <th>SepalWidth</th>\n",
              "      <th>PetalLength</th>\n",
              "      <th>PetalWidth</th>\n",
              "      <th>Species</th>\n",
              "    </tr>\n",
              "  </thead>\n",
              "  <tbody>\n",
              "    <tr>\n",
              "      <th>0</th>\n",
              "      <td>6.4</td>\n",
              "      <td>2.8</td>\n",
              "      <td>5.6</td>\n",
              "      <td>2.2</td>\n",
              "      <td>2</td>\n",
              "    </tr>\n",
              "    <tr>\n",
              "      <th>1</th>\n",
              "      <td>5.0</td>\n",
              "      <td>2.3</td>\n",
              "      <td>3.3</td>\n",
              "      <td>1.0</td>\n",
              "      <td>1</td>\n",
              "    </tr>\n",
              "    <tr>\n",
              "      <th>2</th>\n",
              "      <td>4.9</td>\n",
              "      <td>2.5</td>\n",
              "      <td>4.5</td>\n",
              "      <td>1.7</td>\n",
              "      <td>2</td>\n",
              "    </tr>\n",
              "    <tr>\n",
              "      <th>3</th>\n",
              "      <td>4.9</td>\n",
              "      <td>3.1</td>\n",
              "      <td>1.5</td>\n",
              "      <td>0.1</td>\n",
              "      <td>0</td>\n",
              "    </tr>\n",
              "    <tr>\n",
              "      <th>4</th>\n",
              "      <td>5.7</td>\n",
              "      <td>3.8</td>\n",
              "      <td>1.7</td>\n",
              "      <td>0.3</td>\n",
              "      <td>0</td>\n",
              "    </tr>\n",
              "  </tbody>\n",
              "</table>\n",
              "</div>"
            ],
            "text/plain": [
              "   SepalLength  SepalWidth  PetalLength  PetalWidth  Species\n",
              "0          6.4         2.8          5.6         2.2        2\n",
              "1          5.0         2.3          3.3         1.0        1\n",
              "2          4.9         2.5          4.5         1.7        2\n",
              "3          4.9         3.1          1.5         0.1        0\n",
              "4          5.7         3.8          1.7         0.3        0"
            ]
          },
          "metadata": {
            "tags": []
          },
          "execution_count": 4
        }
      ]
    },
    {
      "cell_type": "code",
      "metadata": {
        "id": "9K4KLXLU0tAb",
        "colab_type": "code",
        "colab": {}
      },
      "source": [
        "# train ve test kümelerinden Target Değerlerini Ayıralım\n",
        "\n",
        "train_y=train.pop(\"Species\")\n",
        "test_y=test.pop(\"Species\")\n"
      ],
      "execution_count": 0,
      "outputs": []
    },
    {
      "cell_type": "code",
      "metadata": {
        "id": "uNnZ98A8VX6M",
        "colab_type": "code",
        "colab": {}
      },
      "source": [
        "#Input Fonksiyonu\n",
        "\n",
        "def input_fn(features,labels,training=True,batch_size=256):\n",
        "\n",
        "  dataset = tf.data.Dataset.from_tensor_slices((dict(features), labels))\n",
        "\n",
        "    # Shuffle and repeat if you are in training mode.\n",
        "  if training:\n",
        "        dataset = dataset.shuffle(1000).repeat()\n",
        "    \n",
        "  return dataset.batch(batch_size)\n"
      ],
      "execution_count": 0,
      "outputs": []
    },
    {
      "cell_type": "code",
      "metadata": {
        "id": "fciSziC8Woi_",
        "colab_type": "code",
        "colab": {}
      },
      "source": [
        "#Feature Columns Tanımlama\n",
        "my_feature_columns = []\n",
        "\n",
        "for key in train.keys():\n",
        "    my_feature_columns.append(tf.feature_column.numeric_column(key=key))\n",
        "\n"
      ],
      "execution_count": 0,
      "outputs": []
    },
    {
      "cell_type": "code",
      "metadata": {
        "id": "0u0cuKlFXJTN",
        "colab_type": "code",
        "colab": {
          "base_uri": "https://localhost:8080/",
          "height": 190
        },
        "outputId": "6d71c2c6-a6a7-4db8-dcd0-b4b1152ae336"
      },
      "source": [
        "#Estimator modeli Oluşturma\n",
        "\"\"\"\n",
        "tf.estimator.DNNClassifier -->Multiclassifacition\n",
        "\n",
        "tf.estimator.DNNLinearCombinedClassifier -->Geniş ve Derin Modeller için\n",
        "\n",
        "tf.estimator.LinearClassifier -->Linear Tabanlı Classifiers için\n",
        "\n",
        "\"\"\"\n",
        "\n",
        "# Build a DNN with 2 hidden layers with 30 and 10 hidden nodes each.\n",
        "\n",
        "classifier=tf.estimator.DNNClassifier(feature_columns=my_feature_columns,\n",
        "                                       # Two hidden layers of 30 and 10 nodes respectively.\n",
        "                                        hidden_units=[30, 10],\n",
        "                                        # The model must choose between 3 classes.\n",
        "                                         n_classes=3\n",
        "                                      )\n",
        "\n"
      ],
      "execution_count": 16,
      "outputs": [
        {
          "output_type": "stream",
          "text": [
            "INFO:tensorflow:Using default config.\n",
            "WARNING:tensorflow:Using temporary folder as model directory: /tmp/tmpsxv3vk0v\n",
            "INFO:tensorflow:Using config: {'_model_dir': '/tmp/tmpsxv3vk0v', '_tf_random_seed': None, '_save_summary_steps': 100, '_save_checkpoints_steps': None, '_save_checkpoints_secs': 600, '_session_config': allow_soft_placement: true\n",
            "graph_options {\n",
            "  rewrite_options {\n",
            "    meta_optimizer_iterations: ONE\n",
            "  }\n",
            "}\n",
            ", '_keep_checkpoint_max': 5, '_keep_checkpoint_every_n_hours': 10000, '_log_step_count_steps': 100, '_train_distribute': None, '_device_fn': None, '_protocol': None, '_eval_distribute': None, '_experimental_distribute': None, '_experimental_max_worker_delay_secs': None, '_session_creation_timeout_secs': 7200, '_service': None, '_cluster_spec': ClusterSpec({}), '_task_type': 'worker', '_task_id': 0, '_global_id_in_cluster': 0, '_master': '', '_evaluation_master': '', '_is_chief': True, '_num_ps_replicas': 0, '_num_worker_replicas': 1}\n"
          ],
          "name": "stdout"
        }
      ]
    },
    {
      "cell_type": "code",
      "metadata": {
        "id": "703qbHGcYl2l",
        "colab_type": "code",
        "colab": {
          "base_uri": "https://localhost:8080/",
          "height": 1000
        },
        "outputId": "f1d0268d-ba71-4c35-db03-229665e6f5ec"
      },
      "source": [
        "#Train, Evaluate, and Predict\n",
        "\n",
        "\"\"\"\n",
        "Estimator'a göre aşağıdaki yöntemleri gerçekleştirebilirsiniz.\n",
        "\n",
        "*Model Eğitimi\n",
        "*Evaluate the trained model.\n",
        "*Use the trained model to make predictions.\n",
        "\"\"\"\n",
        "\n",
        "#Train the Model\n",
        "classifier.train(\n",
        "    input_fn=lambda: input_fn(train, train_y, training=True),\n",
        "    steps=5000)\n",
        "\n"
      ],
      "execution_count": 17,
      "outputs": [
        {
          "output_type": "stream",
          "text": [
            "INFO:tensorflow:Calling model_fn.\n",
            "WARNING:tensorflow:Layer dnn is casting an input tensor from dtype float64 to the layer's dtype of float32, which is new behavior in TensorFlow 2.  The layer has dtype float32 because it's dtype defaults to floatx.\n",
            "\n",
            "If you intended to run this layer in float32, you can safely ignore this warning. If in doubt, this warning is likely only an issue if you are porting a TensorFlow 1.X model to TensorFlow 2.\n",
            "\n",
            "To change all layers to have dtype float64 by default, call `tf.keras.backend.set_floatx('float64')`. To change just this layer, pass dtype='float64' to the layer constructor. If you are the author of this layer, you can disable autocasting by passing autocast=False to the base Layer constructor.\n",
            "\n",
            "WARNING:tensorflow:From /usr/local/lib/python3.6/dist-packages/tensorflow/python/keras/optimizer_v2/adagrad.py:106: calling Constant.__init__ (from tensorflow.python.ops.init_ops) with dtype is deprecated and will be removed in a future version.\n",
            "Instructions for updating:\n",
            "Call initializer instance with the dtype argument instead of passing it to the constructor\n",
            "INFO:tensorflow:Done calling model_fn.\n",
            "INFO:tensorflow:Create CheckpointSaverHook.\n",
            "INFO:tensorflow:Graph was finalized.\n",
            "INFO:tensorflow:Running local_init_op.\n",
            "INFO:tensorflow:Done running local_init_op.\n",
            "INFO:tensorflow:Calling checkpoint listeners before saving checkpoint 0...\n",
            "INFO:tensorflow:Saving checkpoints for 0 into /tmp/tmpsxv3vk0v/model.ckpt.\n",
            "INFO:tensorflow:Calling checkpoint listeners after saving checkpoint 0...\n",
            "INFO:tensorflow:loss = 1.3445933, step = 0\n",
            "INFO:tensorflow:global_step/sec: 474.637\n",
            "INFO:tensorflow:loss = 1.04576, step = 100 (0.214 sec)\n",
            "INFO:tensorflow:global_step/sec: 640.907\n",
            "INFO:tensorflow:loss = 0.98018515, step = 200 (0.156 sec)\n",
            "INFO:tensorflow:global_step/sec: 623.689\n",
            "INFO:tensorflow:loss = 0.9397522, step = 300 (0.161 sec)\n",
            "INFO:tensorflow:global_step/sec: 654.828\n",
            "INFO:tensorflow:loss = 0.90723926, step = 400 (0.153 sec)\n",
            "INFO:tensorflow:global_step/sec: 609.887\n",
            "INFO:tensorflow:loss = 0.885942, step = 500 (0.164 sec)\n",
            "INFO:tensorflow:global_step/sec: 659.341\n",
            "INFO:tensorflow:loss = 0.8513768, step = 600 (0.149 sec)\n",
            "INFO:tensorflow:global_step/sec: 608.352\n",
            "INFO:tensorflow:loss = 0.82792246, step = 700 (0.164 sec)\n",
            "INFO:tensorflow:global_step/sec: 666.422\n",
            "INFO:tensorflow:loss = 0.8122842, step = 800 (0.152 sec)\n",
            "INFO:tensorflow:global_step/sec: 664.171\n",
            "INFO:tensorflow:loss = 0.7988627, step = 900 (0.148 sec)\n",
            "INFO:tensorflow:global_step/sec: 683.843\n",
            "INFO:tensorflow:loss = 0.78432107, step = 1000 (0.149 sec)\n",
            "INFO:tensorflow:global_step/sec: 644.379\n",
            "INFO:tensorflow:loss = 0.7607995, step = 1100 (0.154 sec)\n",
            "INFO:tensorflow:global_step/sec: 675.145\n",
            "INFO:tensorflow:loss = 0.7551491, step = 1200 (0.147 sec)\n",
            "INFO:tensorflow:global_step/sec: 663.535\n",
            "INFO:tensorflow:loss = 0.7383974, step = 1300 (0.151 sec)\n",
            "INFO:tensorflow:global_step/sec: 600.751\n",
            "INFO:tensorflow:loss = 0.7175156, step = 1400 (0.166 sec)\n",
            "INFO:tensorflow:global_step/sec: 687.237\n",
            "INFO:tensorflow:loss = 0.68026054, step = 1500 (0.146 sec)\n",
            "INFO:tensorflow:global_step/sec: 662.521\n",
            "INFO:tensorflow:loss = 0.6640315, step = 1600 (0.150 sec)\n",
            "INFO:tensorflow:global_step/sec: 679.117\n",
            "INFO:tensorflow:loss = 0.63797903, step = 1700 (0.149 sec)\n",
            "INFO:tensorflow:global_step/sec: 618.603\n",
            "INFO:tensorflow:loss = 0.62737274, step = 1800 (0.162 sec)\n",
            "INFO:tensorflow:global_step/sec: 663.951\n",
            "INFO:tensorflow:loss = 0.59093404, step = 1900 (0.148 sec)\n",
            "INFO:tensorflow:global_step/sec: 648.325\n",
            "INFO:tensorflow:loss = 0.5952258, step = 2000 (0.154 sec)\n",
            "INFO:tensorflow:global_step/sec: 651.384\n",
            "INFO:tensorflow:loss = 0.57987946, step = 2100 (0.153 sec)\n",
            "INFO:tensorflow:global_step/sec: 694.294\n",
            "INFO:tensorflow:loss = 0.5533742, step = 2200 (0.145 sec)\n",
            "INFO:tensorflow:global_step/sec: 708.056\n",
            "INFO:tensorflow:loss = 0.54790086, step = 2300 (0.143 sec)\n",
            "INFO:tensorflow:global_step/sec: 680.611\n",
            "INFO:tensorflow:loss = 0.5442664, step = 2400 (0.145 sec)\n",
            "INFO:tensorflow:global_step/sec: 696.52\n",
            "INFO:tensorflow:loss = 0.52377445, step = 2500 (0.143 sec)\n",
            "INFO:tensorflow:global_step/sec: 661.682\n",
            "INFO:tensorflow:loss = 0.510429, step = 2600 (0.153 sec)\n",
            "INFO:tensorflow:global_step/sec: 671.726\n",
            "INFO:tensorflow:loss = 0.50596666, step = 2700 (0.149 sec)\n",
            "INFO:tensorflow:global_step/sec: 661.022\n",
            "INFO:tensorflow:loss = 0.4973058, step = 2800 (0.150 sec)\n",
            "INFO:tensorflow:global_step/sec: 694.417\n",
            "INFO:tensorflow:loss = 0.49206734, step = 2900 (0.145 sec)\n",
            "INFO:tensorflow:global_step/sec: 663.729\n",
            "INFO:tensorflow:loss = 0.47409132, step = 3000 (0.149 sec)\n",
            "INFO:tensorflow:global_step/sec: 685.311\n",
            "INFO:tensorflow:loss = 0.455082, step = 3100 (0.148 sec)\n",
            "INFO:tensorflow:global_step/sec: 630.619\n",
            "INFO:tensorflow:loss = 0.44309944, step = 3200 (0.158 sec)\n",
            "INFO:tensorflow:global_step/sec: 655.974\n",
            "INFO:tensorflow:loss = 0.45765567, step = 3300 (0.153 sec)\n",
            "INFO:tensorflow:global_step/sec: 550.88\n",
            "INFO:tensorflow:loss = 0.43645078, step = 3400 (0.184 sec)\n",
            "INFO:tensorflow:global_step/sec: 666.373\n",
            "INFO:tensorflow:loss = 0.43241376, step = 3500 (0.145 sec)\n",
            "WARNING:tensorflow:It seems that global step (tf.train.get_global_step) has not been increased. Current value (could be stable): 3574 vs previous value: 3574. You could increase the global step by passing tf.train.get_global_step() to Optimizer.apply_gradients or Optimizer.minimize.\n",
            "INFO:tensorflow:global_step/sec: 646.055\n",
            "INFO:tensorflow:loss = 0.4342486, step = 3600 (0.155 sec)\n",
            "INFO:tensorflow:global_step/sec: 675.054\n",
            "INFO:tensorflow:loss = 0.42443708, step = 3700 (0.148 sec)\n",
            "INFO:tensorflow:global_step/sec: 653.244\n",
            "INFO:tensorflow:loss = 0.42339468, step = 3800 (0.155 sec)\n",
            "INFO:tensorflow:global_step/sec: 679.336\n",
            "INFO:tensorflow:loss = 0.41514754, step = 3900 (0.147 sec)\n",
            "INFO:tensorflow:global_step/sec: 660.331\n",
            "INFO:tensorflow:loss = 0.40943953, step = 4000 (0.151 sec)\n",
            "INFO:tensorflow:global_step/sec: 622.293\n",
            "INFO:tensorflow:loss = 0.397162, step = 4100 (0.162 sec)\n",
            "INFO:tensorflow:global_step/sec: 659.457\n",
            "INFO:tensorflow:loss = 0.40318382, step = 4200 (0.149 sec)\n",
            "INFO:tensorflow:global_step/sec: 667.395\n",
            "INFO:tensorflow:loss = 0.3863532, step = 4300 (0.149 sec)\n",
            "INFO:tensorflow:global_step/sec: 671.529\n",
            "INFO:tensorflow:loss = 0.39667195, step = 4400 (0.149 sec)\n",
            "INFO:tensorflow:global_step/sec: 647.287\n",
            "INFO:tensorflow:loss = 0.38646156, step = 4500 (0.156 sec)\n",
            "INFO:tensorflow:global_step/sec: 683.244\n",
            "INFO:tensorflow:loss = 0.38224453, step = 4600 (0.145 sec)\n",
            "INFO:tensorflow:global_step/sec: 640.801\n",
            "INFO:tensorflow:loss = 0.38898987, step = 4700 (0.156 sec)\n",
            "INFO:tensorflow:global_step/sec: 656.443\n",
            "INFO:tensorflow:loss = 0.37852547, step = 4800 (0.154 sec)\n",
            "INFO:tensorflow:global_step/sec: 664.507\n",
            "INFO:tensorflow:loss = 0.36324143, step = 4900 (0.150 sec)\n",
            "INFO:tensorflow:Calling checkpoint listeners before saving checkpoint 5000...\n",
            "INFO:tensorflow:Saving checkpoints for 5000 into /tmp/tmpsxv3vk0v/model.ckpt.\n",
            "INFO:tensorflow:Calling checkpoint listeners after saving checkpoint 5000...\n",
            "INFO:tensorflow:Loss for final step: 0.380853.\n"
          ],
          "name": "stdout"
        },
        {
          "output_type": "execute_result",
          "data": {
            "text/plain": [
              "<tensorflow_estimator.python.estimator.canned.dnn.DNNClassifierV2 at 0x7f36c25d38d0>"
            ]
          },
          "metadata": {
            "tags": []
          },
          "execution_count": 17
        }
      ]
    },
    {
      "cell_type": "code",
      "metadata": {
        "id": "Oq_uyIGQZFyy",
        "colab_type": "code",
        "colab": {
          "base_uri": "https://localhost:8080/",
          "height": 377
        },
        "outputId": "6593ac43-4d2d-436f-d1ad-cba4cd36f2d0"
      },
      "source": [
        "#Evaluate the trained model\n",
        "\n",
        "eval_result=classifier.evaluate(input_fn=lambda : input_fn(test,test_y,training=False))\n",
        "\n",
        "print('\\nTest set accuracy: {accuracy:0.3f}\\n'.format(**eval_result))"
      ],
      "execution_count": 20,
      "outputs": [
        {
          "output_type": "stream",
          "text": [
            "INFO:tensorflow:Calling model_fn.\n",
            "WARNING:tensorflow:Layer dnn is casting an input tensor from dtype float64 to the layer's dtype of float32, which is new behavior in TensorFlow 2.  The layer has dtype float32 because it's dtype defaults to floatx.\n",
            "\n",
            "If you intended to run this layer in float32, you can safely ignore this warning. If in doubt, this warning is likely only an issue if you are porting a TensorFlow 1.X model to TensorFlow 2.\n",
            "\n",
            "To change all layers to have dtype float64 by default, call `tf.keras.backend.set_floatx('float64')`. To change just this layer, pass dtype='float64' to the layer constructor. If you are the author of this layer, you can disable autocasting by passing autocast=False to the base Layer constructor.\n",
            "\n",
            "INFO:tensorflow:Done calling model_fn.\n",
            "INFO:tensorflow:Starting evaluation at 2020-05-22T22:01:47Z\n",
            "INFO:tensorflow:Graph was finalized.\n",
            "INFO:tensorflow:Restoring parameters from /tmp/tmpsxv3vk0v/model.ckpt-5000\n",
            "INFO:tensorflow:Running local_init_op.\n",
            "INFO:tensorflow:Done running local_init_op.\n",
            "INFO:tensorflow:Inference Time : 0.25206s\n",
            "INFO:tensorflow:Finished evaluation at 2020-05-22-22:01:47\n",
            "INFO:tensorflow:Saving dict for global step 5000: accuracy = 0.9, average_loss = 0.4414581, global_step = 5000, loss = 0.4414581\n",
            "INFO:tensorflow:Saving 'checkpoint_path' summary for global step 5000: /tmp/tmpsxv3vk0v/model.ckpt-5000\n",
            "\n",
            "Test set accuracy: 0.900\n",
            "\n"
          ],
          "name": "stdout"
        }
      ]
    },
    {
      "cell_type": "code",
      "metadata": {
        "id": "fwA66rrSZ1YO",
        "colab_type": "code",
        "colab": {}
      },
      "source": [
        ""
      ],
      "execution_count": 0,
      "outputs": []
    }
  ]
}