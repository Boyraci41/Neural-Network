{
  "nbformat": 4,
  "nbformat_minor": 0,
  "metadata": {
    "colab": {
      "name": "Reuters",
      "provenance": [],
      "collapsed_sections": [],
      "authorship_tag": "ABX9TyOTcec4xRHGTtNyhcdLArzI",
      "include_colab_link": true
    },
    "kernelspec": {
      "name": "python3",
      "display_name": "Python 3"
    }
  },
  "cells": [
    {
      "cell_type": "markdown",
      "metadata": {
        "id": "view-in-github",
        "colab_type": "text"
      },
      "source": [
        "<a href=\"https://colab.research.google.com/github/Boyraci41/Neural-Network/blob/master/Reuters.ipynb\" target=\"_parent\"><img src=\"https://colab.research.google.com/assets/colab-badge.svg\" alt=\"Open In Colab\"/></a>"
      ]
    },
    {
      "cell_type": "code",
      "metadata": {
        "id": "X1GVkLAyDy_s",
        "colab_type": "code",
        "outputId": "0456a059-e7a5-458c-b04f-17d00c0a51ff",
        "colab": {
          "base_uri": "https://localhost:8080/",
          "height": 34
        }
      },
      "source": [
        "\"\"\"Type Multiclass Classifacation\"\"\"\n",
        "\n",
        "from keras.datasets import reuters"
      ],
      "execution_count": 1,
      "outputs": [
        {
          "output_type": "stream",
          "text": [
            "Using TensorFlow backend.\n"
          ],
          "name": "stderr"
        }
      ]
    },
    {
      "cell_type": "code",
      "metadata": {
        "id": "IzZ86H3bD12Q",
        "colab_type": "code",
        "colab": {
          "base_uri": "https://localhost:8080/",
          "height": 51
        },
        "outputId": "aca2afd3-83e5-4e68-ae3a-f631da7d62f0"
      },
      "source": [
        "(train_data,train_labels),(test_data,test_labels)=reuters.load_data(num_words=10000)"
      ],
      "execution_count": 2,
      "outputs": [
        {
          "output_type": "stream",
          "text": [
            "Downloading data from https://s3.amazonaws.com/text-datasets/reuters.npz\n",
            "2113536/2110848 [==============================] - 1s 1us/step\n"
          ],
          "name": "stdout"
        }
      ]
    },
    {
      "cell_type": "code",
      "metadata": {
        "id": "NRMnvMNb1ikV",
        "colab_type": "code",
        "colab": {}
      },
      "source": [
        "import numpy as np\n",
        "\n",
        "def vectorize_sequences(sequences, dimension=10000):\n",
        "    results = np.zeros((len(sequences), dimension))\n",
        "    for i, sequence in enumerate(sequences):\n",
        "        results[i, sequence] = 1.\n",
        "    return results\n",
        "\n",
        "x_train=vectorize_sequences(train_data)\n",
        "x_test=vectorize_sequences(test_data)\n",
        "\n",
        "def to_one_hot(labels,dimension=46):\n",
        "  results=np.zeros((len(labels),dimension))\n",
        "  for i,label in enumerate(labels):\n",
        "    results[i,label]=1.0\n",
        "  return results\n",
        "\n",
        "one_hot_train_labels=to_one_hot(train_labels)\n",
        "one_hot_test_labels=to_one_hot(test_labels)"
      ],
      "execution_count": 0,
      "outputs": []
    },
    {
      "cell_type": "code",
      "metadata": {
        "id": "-GbQnlMF1mcT",
        "colab_type": "code",
        "colab": {}
      },
      "source": [
        "from keras.models import Sequential\n",
        "from keras.layers import Dense\n",
        "\n",
        "model=Sequential()\n",
        "model.add(Dense(64,activation=\"relu\",input_shape=((10000,))))\n",
        "model.add(Dense(64,activation=\"relu\"))\n",
        "model.add(Dense(46,activation=\"softmax\"))\n",
        "\n",
        "model.compile(optimizer=\"rmsprop\",loss=\"categorical_crossentropy\",metrics=[\"accuracy\"])"
      ],
      "execution_count": 0,
      "outputs": []
    },
    {
      "cell_type": "code",
      "metadata": {
        "id": "Ovj0ZHdJ8DzB",
        "colab_type": "code",
        "colab": {}
      },
      "source": [
        "x_val=x_train[:1000]\n",
        "partial_x_train=x_train[1000:]\n",
        "\n",
        "y_val=one_hot_train_labels[:1000]\n",
        "partial_y_train=one_hot_train_labels[1000:]"
      ],
      "execution_count": 0,
      "outputs": []
    },
    {
      "cell_type": "code",
      "metadata": {
        "id": "M_oVKXz9Aebd",
        "colab_type": "code",
        "colab": {
          "base_uri": "https://localhost:8080/",
          "height": 714
        },
        "outputId": "ffb5dd76-9275-427e-d74c-eb6ac06f805a"
      },
      "source": [
        "history=model.fit(partial_x_train,partial_y_train,epochs=20,batch_size=512,validation_data=(x_val,y_val))\n"
      ],
      "execution_count": 28,
      "outputs": [
        {
          "output_type": "stream",
          "text": [
            "Train on 7982 samples, validate on 1000 samples\n",
            "Epoch 1/20\n",
            "7982/7982 [==============================] - 1s 112us/step - loss: 0.2321 - accuracy: 0.9445 - val_loss: 0.9135 - val_accuracy: 0.8180\n",
            "Epoch 2/20\n",
            "7982/7982 [==============================] - 1s 112us/step - loss: 0.2011 - accuracy: 0.9503 - val_loss: 0.9155 - val_accuracy: 0.8120\n",
            "Epoch 3/20\n",
            "7982/7982 [==============================] - 1s 112us/step - loss: 0.1768 - accuracy: 0.9521 - val_loss: 0.9313 - val_accuracy: 0.8150\n",
            "Epoch 4/20\n",
            "7982/7982 [==============================] - 1s 113us/step - loss: 0.1653 - accuracy: 0.9526 - val_loss: 0.9404 - val_accuracy: 0.8160\n",
            "Epoch 5/20\n",
            "7982/7982 [==============================] - 1s 111us/step - loss: 0.1442 - accuracy: 0.9569 - val_loss: 1.0332 - val_accuracy: 0.8000\n",
            "Epoch 6/20\n",
            "7982/7982 [==============================] - 1s 109us/step - loss: 0.1376 - accuracy: 0.9563 - val_loss: 0.9771 - val_accuracy: 0.8160\n",
            "Epoch 7/20\n",
            "7982/7982 [==============================] - 1s 113us/step - loss: 0.1284 - accuracy: 0.9551 - val_loss: 0.9866 - val_accuracy: 0.8150\n",
            "Epoch 8/20\n",
            "7982/7982 [==============================] - 1s 109us/step - loss: 0.1275 - accuracy: 0.9572 - val_loss: 1.0578 - val_accuracy: 0.7980\n",
            "Epoch 9/20\n",
            "7982/7982 [==============================] - 1s 111us/step - loss: 0.1192 - accuracy: 0.9564 - val_loss: 1.0319 - val_accuracy: 0.8170\n",
            "Epoch 10/20\n",
            "7982/7982 [==============================] - 1s 109us/step - loss: 0.1199 - accuracy: 0.9553 - val_loss: 1.0443 - val_accuracy: 0.8090\n",
            "Epoch 11/20\n",
            "7982/7982 [==============================] - 1s 111us/step - loss: 0.1105 - accuracy: 0.9560 - val_loss: 1.1432 - val_accuracy: 0.7880\n",
            "Epoch 12/20\n",
            "7982/7982 [==============================] - 1s 108us/step - loss: 0.1096 - accuracy: 0.9577 - val_loss: 1.0726 - val_accuracy: 0.8070\n",
            "Epoch 13/20\n",
            "7982/7982 [==============================] - 1s 108us/step - loss: 0.1061 - accuracy: 0.9583 - val_loss: 1.1867 - val_accuracy: 0.7780\n",
            "Epoch 14/20\n",
            "7982/7982 [==============================] - 1s 109us/step - loss: 0.1059 - accuracy: 0.9568 - val_loss: 1.1599 - val_accuracy: 0.7920\n",
            "Epoch 15/20\n",
            "7982/7982 [==============================] - 1s 108us/step - loss: 0.1022 - accuracy: 0.9579 - val_loss: 1.1810 - val_accuracy: 0.8040\n",
            "Epoch 16/20\n",
            "7982/7982 [==============================] - 1s 109us/step - loss: 0.1021 - accuracy: 0.9587 - val_loss: 1.1668 - val_accuracy: 0.7990\n",
            "Epoch 17/20\n",
            "7982/7982 [==============================] - 1s 110us/step - loss: 0.1018 - accuracy: 0.9569 - val_loss: 1.1954 - val_accuracy: 0.7900\n",
            "Epoch 18/20\n",
            "7982/7982 [==============================] - 1s 108us/step - loss: 0.0999 - accuracy: 0.9574 - val_loss: 1.2315 - val_accuracy: 0.7890\n",
            "Epoch 19/20\n",
            "7982/7982 [==============================] - 1s 110us/step - loss: 0.1006 - accuracy: 0.9573 - val_loss: 1.1980 - val_accuracy: 0.7910\n",
            "Epoch 20/20\n",
            "7982/7982 [==============================] - 1s 109us/step - loss: 0.0970 - accuracy: 0.9578 - val_loss: 1.2884 - val_accuracy: 0.7850\n"
          ],
          "name": "stdout"
        }
      ]
    },
    {
      "cell_type": "code",
      "metadata": {
        "id": "dtErkvuxAtxM",
        "colab_type": "code",
        "colab": {
          "base_uri": "https://localhost:8080/",
          "height": 357
        },
        "outputId": "8af5b07f-5349-423c-beab-90451a3e039b"
      },
      "source": [
        "model = Sequential()\n",
        "model.add(Dense(64, activation='relu', input_shape=(10000,)))\n",
        "model.add(Dense(64, activation='relu'))\n",
        "model.add(Dense(46, activation='softmax'))\n",
        "\n",
        "model.compile(optimizer='rmsprop',\n",
        "              loss='categorical_crossentropy',\n",
        "              metrics=['accuracy'])\n",
        "model.fit(partial_x_train,\n",
        "          partial_y_train,\n",
        "          epochs=9,\n",
        "          batch_size=512,\n",
        "          validation_data=(x_val, y_val))\n",
        "results = model.evaluate(x_test, one_hot_test_labels)\n",
        "\n"
      ],
      "execution_count": 29,
      "outputs": [
        {
          "output_type": "stream",
          "text": [
            "Train on 7982 samples, validate on 1000 samples\n",
            "Epoch 1/9\n",
            "7982/7982 [==============================] - 1s 118us/step - loss: 2.5776 - accuracy: 0.5063 - val_loss: 1.6929 - val_accuracy: 0.6330\n",
            "Epoch 2/9\n",
            "7982/7982 [==============================] - 1s 110us/step - loss: 1.3865 - accuracy: 0.7056 - val_loss: 1.2868 - val_accuracy: 0.7100\n",
            "Epoch 3/9\n",
            "7982/7982 [==============================] - 1s 109us/step - loss: 1.0313 - accuracy: 0.7752 - val_loss: 1.1172 - val_accuracy: 0.7650\n",
            "Epoch 4/9\n",
            "7982/7982 [==============================] - 1s 111us/step - loss: 0.8108 - accuracy: 0.8297 - val_loss: 1.0222 - val_accuracy: 0.7850\n",
            "Epoch 5/9\n",
            "7982/7982 [==============================] - 1s 110us/step - loss: 0.6486 - accuracy: 0.8636 - val_loss: 0.9881 - val_accuracy: 0.7850\n",
            "Epoch 6/9\n",
            "7982/7982 [==============================] - 1s 110us/step - loss: 0.5187 - accuracy: 0.8936 - val_loss: 0.9321 - val_accuracy: 0.8110\n",
            "Epoch 7/9\n",
            "7982/7982 [==============================] - 1s 109us/step - loss: 0.4206 - accuracy: 0.9110 - val_loss: 0.8844 - val_accuracy: 0.8140\n",
            "Epoch 8/9\n",
            "7982/7982 [==============================] - 1s 109us/step - loss: 0.3439 - accuracy: 0.9267 - val_loss: 0.9013 - val_accuracy: 0.8120\n",
            "Epoch 9/9\n",
            "7982/7982 [==============================] - 1s 109us/step - loss: 0.2813 - accuracy: 0.9387 - val_loss: 0.8974 - val_accuracy: 0.8090\n",
            "2246/2246 [==============================] - 0s 74us/step\n"
          ],
          "name": "stdout"
        }
      ]
    },
    {
      "cell_type": "code",
      "metadata": {
        "id": "lheJdES8BC9X",
        "colab_type": "code",
        "colab": {
          "base_uri": "https://localhost:8080/",
          "height": 34
        },
        "outputId": "81af48b1-0e01-42a9-9ac8-9270cb00b24c"
      },
      "source": [
        "predictions=model.predict(x_test)\n",
        "predictions[0].shape\n",
        "np.sum(predictions[0])"
      ],
      "execution_count": 33,
      "outputs": [
        {
          "output_type": "execute_result",
          "data": {
            "text/plain": [
              "0.9999999"
            ]
          },
          "metadata": {
            "tags": []
          },
          "execution_count": 33
        }
      ]
    },
    {
      "cell_type": "code",
      "metadata": {
        "id": "16TXrf6fBK90",
        "colab_type": "code",
        "colab": {}
      },
      "source": [
        ""
      ],
      "execution_count": 0,
      "outputs": []
    }
  ]
}