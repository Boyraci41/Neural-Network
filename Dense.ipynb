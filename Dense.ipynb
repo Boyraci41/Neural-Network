{
  "nbformat": 4,
  "nbformat_minor": 0,
  "metadata": {
    "colab": {
      "name": "Dense",
      "provenance": [],
      "authorship_tag": "ABX9TyMpGMmbTwY82p0x4gCMA0mk",
      "include_colab_link": true
    },
    "kernelspec": {
      "name": "python3",
      "display_name": "Python 3"
    }
  },
  "cells": [
    {
      "cell_type": "markdown",
      "metadata": {
        "id": "view-in-github",
        "colab_type": "text"
      },
      "source": [
        "<a href=\"https://colab.research.google.com/github/Boyraci41/Neural-Network/blob/master/Dense.ipynb\" target=\"_parent\"><img src=\"https://colab.research.google.com/assets/colab-badge.svg\" alt=\"Open In Colab\"/></a>"
      ]
    },
    {
      "cell_type": "code",
      "metadata": {
        "id": "hyd3XgmBINh_",
        "colab_type": "code",
        "colab": {}
      },
      "source": [
        "import tensorflow as tf\n"
      ],
      "execution_count": 0,
      "outputs": []
    },
    {
      "cell_type": "code",
      "metadata": {
        "id": "3UsXpOwoIoGD",
        "colab_type": "code",
        "colab": {}
      },
      "source": [
        "class MyDenseLayer(tf.keras.layers.Layer):\n",
        "  def __init__(self,input_dim,output_dim):\n",
        "   super(MyDenseLayer,self).__init__()\n",
        "   self.W=self.add_weight([input_dim,output_dim])\n",
        "   self.b=self.add_weight([input_dim,output_dim])\n",
        "\n",
        "\n",
        "  def call(self,inputs):\n",
        "    #Forward Progapaiton inputs\n",
        "    z=tf.matmul(inputs,self.W) + self.b\n",
        "\n",
        "    #Feed through a non-linear activation\n",
        "    output=tf.math.sigmoid(z)\n",
        "\n",
        "    return output;\n",
        "\n",
        "\n",
        "\n",
        "\n"
      ],
      "execution_count": 0,
      "outputs": []
    }
  ]
}