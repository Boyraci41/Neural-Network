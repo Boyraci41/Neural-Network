{
  "nbformat": 4,
  "nbformat_minor": 0,
  "metadata": {
    "colab": {
      "name": "IMDB_Keras",
      "provenance": [],
      "collapsed_sections": [],
      "authorship_tag": "ABX9TyPyOqDu+ZuJcqXOtjQ4UhZk",
      "include_colab_link": true
    },
    "kernelspec": {
      "name": "python3",
      "display_name": "Python 3"
    }
  },
  "cells": [
    {
      "cell_type": "markdown",
      "metadata": {
        "id": "view-in-github",
        "colab_type": "text"
      },
      "source": [
        "<a href=\"https://colab.research.google.com/github/Boyraci41/Neural-Network/blob/master/IMDB_Keras.ipynb\" target=\"_parent\"><img src=\"https://colab.research.google.com/assets/colab-badge.svg\" alt=\"Open In Colab\"/></a>"
      ]
    },
    {
      "cell_type": "code",
      "metadata": {
        "id": "eq7w5yGQEm3B",
        "colab_type": "code",
        "colab": {}
      },
      "source": [
        "from keras.datasets import imdb\n",
        "\n",
        "(train_data, train_labels), (test_data, test_labels) = imdb.load_data(\n",
        "    num_words=10000)"
      ],
      "execution_count": 0,
      "outputs": []
    },
    {
      "cell_type": "code",
      "metadata": {
        "id": "9y8dXihrEsSG",
        "colab_type": "code",
        "colab": {}
      },
      "source": [
        ""
      ],
      "execution_count": 0,
      "outputs": []
    },
    {
      "cell_type": "code",
      "metadata": {
        "id": "EYmM6iteGGO-",
        "colab_type": "code",
        "colab": {}
      },
      "source": [
        "import numpy as np\n",
        "\n",
        "\n",
        "def vectorize_sequences(sequences,dimension=10000):\n",
        "  results=np.zeros((len(sequences),dimension))\n",
        "  for i ,sequence in enumerate(sequences):\n",
        "    results[i,sequence]=1.\n",
        "    \n",
        "  return results\n",
        "\n",
        "x_train=vectorize_sequences(train_data)\n",
        "x_test=vectorize_sequences(test_data)\n",
        "\n",
        "y_train=np.asarray(train_labels).astype(\"float32\")\n",
        "y_test=np.asarray(test_labels).astype(\"float32\")\n",
        "\n"
      ],
      "execution_count": 0,
      "outputs": []
    },
    {
      "cell_type": "code",
      "metadata": {
        "id": "q1gtapFPLYqr",
        "colab_type": "code",
        "colab": {}
      },
      "source": [
        "from keras.models import  Sequential\n",
        "from keras.layers import  Dense\n",
        "from keras.losses import binary_crossentropy\n",
        "from keras.metrics import binary_accuracy\n",
        "model=Sequential()\n",
        "model.add(Dense(16,activation=\"relu\",input_shape=(10000,)))\n",
        "model.add(Dense(16,activation=\"relu\"))\n",
        "model.add(Dense(1,activation=\"softmax\"))\n",
        "\n",
        "model.compile(optimizer=\"rmsprop\",loss=\"binary_crossentropy\",metrics=[\"acc\"])"
      ],
      "execution_count": 0,
      "outputs": []
    },
    {
      "cell_type": "code",
      "metadata": {
        "id": "lAfFJiucOkdl",
        "colab_type": "code",
        "colab": {
          "base_uri": "https://localhost:8080/",
          "height": 714
        },
        "outputId": "25556b3d-d904-44bd-ecb5-3833c08a25ed"
      },
      "source": [
        "x_val=x_train[:10000]\n",
        "partial_x_train=x_train[10000:]\n",
        "y_val=y_train[:10000]\n",
        "partial_y_train=y_train[10000:]\n",
        "\n",
        "\n",
        "history=model.fit(partial_x_train,partial_y_train,epochs=20,batch_size=512,validation_data=(x_val,y_val))\n"
      ],
      "execution_count": 52,
      "outputs": [
        {
          "output_type": "stream",
          "text": [
            "Train on 15000 samples, validate on 10000 samples\n",
            "Epoch 1/20\n",
            "15000/15000 [==============================] - 2s 149us/step - loss: 7.7208 - acc: 0.4965 - val_loss: 7.5438 - val_acc: 0.5053\n",
            "Epoch 2/20\n",
            "15000/15000 [==============================] - 2s 142us/step - loss: 7.7208 - acc: 0.4965 - val_loss: 7.5438 - val_acc: 0.5053\n",
            "Epoch 3/20\n",
            "15000/15000 [==============================] - 2s 145us/step - loss: 7.7208 - acc: 0.4965 - val_loss: 7.5438 - val_acc: 0.5053\n",
            "Epoch 4/20\n",
            "15000/15000 [==============================] - 2s 145us/step - loss: 7.7208 - acc: 0.4965 - val_loss: 7.5438 - val_acc: 0.5053\n",
            "Epoch 5/20\n",
            "15000/15000 [==============================] - 2s 143us/step - loss: 7.7208 - acc: 0.4965 - val_loss: 7.5438 - val_acc: 0.5053\n",
            "Epoch 6/20\n",
            "15000/15000 [==============================] - 2s 143us/step - loss: 7.7208 - acc: 0.4965 - val_loss: 7.5438 - val_acc: 0.5053\n",
            "Epoch 7/20\n",
            "15000/15000 [==============================] - 2s 144us/step - loss: 7.7208 - acc: 0.4965 - val_loss: 7.5438 - val_acc: 0.5053\n",
            "Epoch 8/20\n",
            "15000/15000 [==============================] - 2s 146us/step - loss: 7.7208 - acc: 0.4965 - val_loss: 7.5438 - val_acc: 0.5053\n",
            "Epoch 9/20\n",
            "15000/15000 [==============================] - 2s 142us/step - loss: 7.7208 - acc: 0.4965 - val_loss: 7.5438 - val_acc: 0.5053\n",
            "Epoch 10/20\n",
            "15000/15000 [==============================] - 2s 146us/step - loss: 7.7208 - acc: 0.4965 - val_loss: 7.5438 - val_acc: 0.5053\n",
            "Epoch 11/20\n",
            "15000/15000 [==============================] - 2s 149us/step - loss: 7.7208 - acc: 0.4965 - val_loss: 7.5438 - val_acc: 0.5053\n",
            "Epoch 12/20\n",
            "15000/15000 [==============================] - 2s 148us/step - loss: 7.7208 - acc: 0.4965 - val_loss: 7.5438 - val_acc: 0.5053\n",
            "Epoch 13/20\n",
            "15000/15000 [==============================] - 2s 150us/step - loss: 7.7208 - acc: 0.4965 - val_loss: 7.5438 - val_acc: 0.5053\n",
            "Epoch 14/20\n",
            "15000/15000 [==============================] - 2s 147us/step - loss: 7.7208 - acc: 0.4965 - val_loss: 7.5438 - val_acc: 0.5053\n",
            "Epoch 15/20\n",
            "15000/15000 [==============================] - 2s 144us/step - loss: 7.7208 - acc: 0.4965 - val_loss: 7.5438 - val_acc: 0.5053\n",
            "Epoch 16/20\n",
            "15000/15000 [==============================] - 2s 145us/step - loss: 7.7208 - acc: 0.4965 - val_loss: 7.5438 - val_acc: 0.5053\n",
            "Epoch 17/20\n",
            "15000/15000 [==============================] - 2s 145us/step - loss: 7.7208 - acc: 0.4965 - val_loss: 7.5438 - val_acc: 0.5053\n",
            "Epoch 18/20\n",
            "15000/15000 [==============================] - 2s 143us/step - loss: 7.7208 - acc: 0.4965 - val_loss: 7.5438 - val_acc: 0.5053\n",
            "Epoch 19/20\n",
            "15000/15000 [==============================] - 2s 143us/step - loss: 7.7208 - acc: 0.4965 - val_loss: 7.5438 - val_acc: 0.5053\n",
            "Epoch 20/20\n",
            "15000/15000 [==============================] - 2s 143us/step - loss: 7.7208 - acc: 0.4965 - val_loss: 7.5438 - val_acc: 0.5053\n"
          ],
          "name": "stdout"
        }
      ]
    },
    {
      "cell_type": "code",
      "metadata": {
        "id": "RWKz9l1EZICH",
        "colab_type": "code",
        "colab": {
          "base_uri": "https://localhost:8080/",
          "height": 34
        },
        "outputId": "cddab40b-a800-44cc-a969-a3fc1cc2995b"
      },
      "source": [
        "history_dict=history.history\n",
        "history_dict.keys()\n"
      ],
      "execution_count": 53,
      "outputs": [
        {
          "output_type": "execute_result",
          "data": {
            "text/plain": [
              "dict_keys(['val_loss', 'val_acc', 'loss', 'acc'])"
            ]
          },
          "metadata": {
            "tags": []
          },
          "execution_count": 53
        }
      ]
    },
    {
      "cell_type": "code",
      "metadata": {
        "id": "KfdcfRl3aA0o",
        "colab_type": "code",
        "colab": {
          "base_uri": "https://localhost:8080/",
          "height": 289
        },
        "outputId": "4ba8aca5-ecfc-4cad-d241-090cbff12ab4"
      },
      "source": [
        "model=Sequential()\n",
        "model.add(Dense(16,activation=\"relu\",input_shape=(10000,)))\n",
        "model.add(Dense(16,activation=\"relu\"))\n",
        "model.add(Dense(1,activation=\"sigmoid\"))\n",
        "\n",
        "model.compile(optimizer=\"rmsprop\",loss=\"binary_crossentropy\",metrics=[\"accuracy\"])\n",
        "model.fit(x_train,y_train,epochs=4,batch_size=512)\n",
        "result=model.evaluate(x_test,y_test)\n",
        "result\n",
        "model.predict(x_test)"
      ],
      "execution_count": 57,
      "outputs": [
        {
          "output_type": "stream",
          "text": [
            "Epoch 1/4\n",
            "25000/25000 [==============================] - 3s 103us/step - loss: 0.4853 - accuracy: 0.8141\n",
            "Epoch 2/4\n",
            "25000/25000 [==============================] - 2s 99us/step - loss: 0.2808 - accuracy: 0.9046\n",
            "Epoch 3/4\n",
            "25000/25000 [==============================] - 2s 98us/step - loss: 0.2124 - accuracy: 0.9244\n",
            "Epoch 4/4\n",
            "25000/25000 [==============================] - 2s 99us/step - loss: 0.1779 - accuracy: 0.9369\n",
            "25000/25000 [==============================] - 2s 64us/step\n"
          ],
          "name": "stdout"
        },
        {
          "output_type": "execute_result",
          "data": {
            "text/plain": [
              "array([[0.30879608],\n",
              "       [0.9999717 ],\n",
              "       [0.967866  ],\n",
              "       ...,\n",
              "       [0.1672827 ],\n",
              "       [0.12376374],\n",
              "       [0.69890845]], dtype=float32)"
            ]
          },
          "metadata": {
            "tags": []
          },
          "execution_count": 57
        }
      ]
    },
    {
      "cell_type": "code",
      "metadata": {
        "id": "oPyW_tP7cSyT",
        "colab_type": "code",
        "colab": {}
      },
      "source": [
        ""
      ],
      "execution_count": 0,
      "outputs": []
    }
  ]
}