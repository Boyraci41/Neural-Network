{
  "nbformat": 4,
  "nbformat_minor": 0,
  "metadata": {
    "colab": {
      "name": "MnistCNN",
      "provenance": [],
      "collapsed_sections": [],
      "authorship_tag": "ABX9TyNpVVu0WFj4nqch7jKxH0AQ",
      "include_colab_link": true
    },
    "kernelspec": {
      "name": "python3",
      "display_name": "Python 3"
    }
  },
  "cells": [
    {
      "cell_type": "markdown",
      "metadata": {
        "id": "view-in-github",
        "colab_type": "text"
      },
      "source": [
        "<a href=\"https://colab.research.google.com/github/Boyraci41/Neural-Network/blob/master/MnistCNN.ipynb\" target=\"_parent\"><img src=\"https://colab.research.google.com/assets/colab-badge.svg\" alt=\"Open In Colab\"/></a>"
      ]
    },
    {
      "cell_type": "code",
      "metadata": {
        "id": "sN2ouX8QC2r5",
        "colab_type": "code",
        "colab": {}
      },
      "source": [
        "import keras \n",
        "from keras.datasets import mnist\n",
        "from keras.models import Sequential\n",
        "from keras.layers import Dense,Dropout,Flatten\n",
        "from keras.layers import Conv2D , MaxPooling2D \n",
        "from keras import backend as K\n",
        "import numpy as np"
      ],
      "execution_count": 0,
      "outputs": []
    },
    {
      "cell_type": "code",
      "metadata": {
        "id": "rmrk3rW7EpYT",
        "colab_type": "code",
        "colab": {}
      },
      "source": [
        "(x_train,y_train),(x_test,y_test)=mnist.load_data()"
      ],
      "execution_count": 0,
      "outputs": []
    },
    {
      "cell_type": "code",
      "metadata": {
        "id": "_Lr45t6tFJZP",
        "colab_type": "code",
        "colab": {}
      },
      "source": [
        "img_rows,img_cols=28,28\n",
        "\n",
        "if K.image_data_format==\"channel_first\":\n",
        "  x_train=x_train.reshape(x_train.shape[0],1,img_row,img_cols)\n",
        "  x_test=x_test.reshape(x_train.shape[0],1,img_row,img_cols)\n",
        "  input_shape = (1, img_rows, img_cols)\n",
        "\n",
        "else:\n",
        "   x_train = x_train.reshape(x_train.shape[0], img_rows, img_cols, 1) \n",
        "   x_test = x_test.reshape(x_test.shape[0], img_rows, img_cols, 1) \n",
        "   input_shape = (img_rows, img_cols, 1) \n",
        "\n",
        "\n",
        "x_train=x_train.astype(\"float32\")\n",
        "x_test=x_test.astype(\"float32\")\n",
        "\n",
        "x_train /=255\n",
        "x_test /=255\n",
        "\n",
        "\n",
        "y_train = keras.utils.to_categorical(y_train, 10) \n",
        "y_test = keras.utils.to_categorical(y_test, 10)\n",
        "\n"
      ],
      "execution_count": 0,
      "outputs": []
    },
    {
      "cell_type": "code",
      "metadata": {
        "id": "zD-42mFzGmmy",
        "colab_type": "code",
        "colab": {}
      },
      "source": [
        "model=Sequential()\n",
        "model.add(Conv2D(32,kernel_size=(3,3),activation=\"relu\",input_shape=input_shape))\n",
        "model.add(Conv2D(64, (3, 3), activation = 'relu')) \n",
        "model.add(MaxPooling2D(pool_size = (2, 2))) \n",
        "model.add(Dropout(0.25)) \n",
        "model.add(Flatten()) \n",
        "model.add(Dense(128, activation = 'relu')) \n",
        "model.add(Dropout(0.5)) \n",
        "model.add(Dense(10, activation = 'softmax'))\n",
        "\n",
        "model.compile(loss=\"categorical_crossentropy\",optimizer=\"AdaDelta\",metrics=[\"accuracy\"])"
      ],
      "execution_count": 0,
      "outputs": []
    },
    {
      "cell_type": "code",
      "metadata": {
        "id": "h2-DiWuhIYfC",
        "colab_type": "code",
        "colab": {
          "base_uri": "https://localhost:8080/",
          "height": 459
        },
        "outputId": "720fb1f1-b91d-4f3c-c09b-cf6e56bad7e6"
      },
      "source": [
        "model.fit(x_train,y_train,batch_size=128,epochs=12,verbose=1,validation_data=(x_test,y_test))"
      ],
      "execution_count": 19,
      "outputs": [
        {
          "output_type": "stream",
          "text": [
            "Train on 60000 samples, validate on 10000 samples\n",
            "Epoch 1/12\n",
            "60000/60000 [==============================] - 144s 2ms/step - loss: 2.3016 - accuracy: 0.1113 - val_loss: 2.2873 - val_accuracy: 0.1723\n",
            "Epoch 2/12\n",
            "60000/60000 [==============================] - 144s 2ms/step - loss: 2.3014 - accuracy: 0.1124 - val_loss: 2.2875 - val_accuracy: 0.1556\n",
            "Epoch 3/12\n",
            "60000/60000 [==============================] - 145s 2ms/step - loss: 2.3014 - accuracy: 0.1124 - val_loss: 2.2872 - val_accuracy: 0.1445\n",
            "Epoch 4/12\n",
            "60000/60000 [==============================] - 144s 2ms/step - loss: 2.3013 - accuracy: 0.1124 - val_loss: 2.2876 - val_accuracy: 0.1492\n",
            "Epoch 5/12\n",
            "60000/60000 [==============================] - 144s 2ms/step - loss: 2.3013 - accuracy: 0.1124 - val_loss: 2.2876 - val_accuracy: 0.1562\n",
            "Epoch 6/12\n",
            "60000/60000 [==============================] - 144s 2ms/step - loss: 2.3013 - accuracy: 0.1124 - val_loss: 2.2874 - val_accuracy: 0.1565\n",
            "Epoch 7/12\n",
            "60000/60000 [==============================] - 144s 2ms/step - loss: 2.3013 - accuracy: 0.1124 - val_loss: 2.2876 - val_accuracy: 0.1497\n",
            "Epoch 8/12\n",
            "60000/60000 [==============================] - 144s 2ms/step - loss: 2.3013 - accuracy: 0.1124 - val_loss: 2.2877 - val_accuracy: 0.1554\n",
            "Epoch 9/12\n",
            "60000/60000 [==============================] - 144s 2ms/step - loss: 2.3013 - accuracy: 0.1124 - val_loss: 2.2877 - val_accuracy: 0.1596\n",
            "Epoch 10/12\n",
            "60000/60000 [==============================] - 144s 2ms/step - loss: 2.3013 - accuracy: 0.1124 - val_loss: 2.2876 - val_accuracy: 0.1447\n",
            "Epoch 11/12\n",
            "60000/60000 [==============================] - 144s 2ms/step - loss: 2.3013 - accuracy: 0.1124 - val_loss: 2.2878 - val_accuracy: 0.1586\n",
            "Epoch 12/12\n",
            "60000/60000 [==============================] - 144s 2ms/step - loss: 2.3013 - accuracy: 0.1124 - val_loss: 2.2877 - val_accuracy: 0.1621\n"
          ],
          "name": "stdout"
        },
        {
          "output_type": "execute_result",
          "data": {
            "text/plain": [
              "<keras.callbacks.callbacks.History at 0x7f1fd05e77f0>"
            ]
          },
          "metadata": {
            "tags": []
          },
          "execution_count": 19
        }
      ]
    },
    {
      "cell_type": "code",
      "metadata": {
        "id": "T5CDwNggIt4F",
        "colab_type": "code",
        "colab": {
          "base_uri": "https://localhost:8080/",
          "height": 68
        },
        "outputId": "67bbb66b-1198-4918-d5e4-c73f16a25c65"
      },
      "source": [
        "score=model.evaluate(x_test,y_test)\n",
        "print(\"Test Loss : {}\".format(score[0]))\n",
        "print(\"Test Accuracy :{}\".format(score[1]))"
      ],
      "execution_count": 23,
      "outputs": [
        {
          "output_type": "stream",
          "text": [
            "10000/10000 [==============================] - 6s 623us/step\n",
            "Test Loss : 2.2876791423797607\n",
            "Test Accuracy :0.16210000216960907\n"
          ],
          "name": "stdout"
        }
      ]
    },
    {
      "cell_type": "code",
      "metadata": {
        "id": "-Br6Nf1hUA2R",
        "colab_type": "code",
        "colab": {
          "base_uri": "https://localhost:8080/",
          "height": 51
        },
        "outputId": "6aabc42e-a14c-4b26-d3eb-21f36fac7047"
      },
      "source": [
        "pred=model.predict(x_test)\n",
        "pred=np.argmax(pred,axis=1)[:5]\n",
        "label = np.argmax(y_test,axis= 1)[:5]\n",
        "\n",
        "print(pred)\n",
        "print(label)"
      ],
      "execution_count": 25,
      "outputs": [
        {
          "output_type": "stream",
          "text": [
            "[1 1 1 0 1]\n",
            "[7 2 1 0 4]\n"
          ],
          "name": "stdout"
        }
      ]
    },
    {
      "cell_type": "code",
      "metadata": {
        "id": "7467kCcAWz4G",
        "colab_type": "code",
        "colab": {}
      },
      "source": [
        ""
      ],
      "execution_count": 0,
      "outputs": []
    }
  ]
}