{
  "nbformat": 4,
  "nbformat_minor": 0,
  "metadata": {
    "colab": {
      "name": "Text Processing",
      "provenance": [],
      "collapsed_sections": [],
      "authorship_tag": "ABX9TyPU/yRpXzJG3zj8At/AoaQz",
      "include_colab_link": true
    },
    "kernelspec": {
      "name": "python3",
      "display_name": "Python 3"
    }
  },
  "cells": [
    {
      "cell_type": "markdown",
      "metadata": {
        "id": "view-in-github",
        "colab_type": "text"
      },
      "source": [
        "<a href=\"https://colab.research.google.com/github/Boyraci41/Neural-Network/blob/master/Text_Processing.ipynb\" target=\"_parent\"><img src=\"https://colab.research.google.com/assets/colab-badge.svg\" alt=\"Open In Colab\"/></a>"
      ]
    },
    {
      "cell_type": "code",
      "metadata": {
        "id": "GpbkW16Hu5SQ",
        "colab_type": "code",
        "colab": {}
      },
      "source": [
        "import json\n",
        "import tensorflow as tf\n",
        "from tensorflow import keras\n",
        "from tensorflow.keras.preprocessing.text import Tokenizer\n",
        "from tensorflow.keras.preprocessing.sequence import pad_sequences"
      ],
      "execution_count": 22,
      "outputs": []
    },
    {
      "cell_type": "code",
      "metadata": {
        "id": "gk44B8SchB2Q",
        "colab_type": "code",
        "colab": {}
      },
      "source": [
        "vocab_size = 10000\n",
        "embedding_dim = 16\n",
        "max_lenght =100\n",
        "trunc_type = \"post\"\n",
        "padding_type = \"post\"\n",
        "oov_tok = \"<OOV>\"\n",
        "training_size = 20000\n"
      ],
      "execution_count": 23,
      "outputs": []
    },
    {
      "cell_type": "code",
      "metadata": {
        "id": "ecv6VZc-vHKW",
        "colab_type": "code",
        "colab": {
          "base_uri": "https://localhost:8080/",
          "height": 204
        },
        "outputId": "c67d93ba-5fff-46b2-8340-c72d42c03bdf"
      },
      "source": [
        "!wget --no-check-certificate \\\n",
        "    https://storage.googleapis.com/laurencemoroney-blog.appspot.com/sarcasm.json \\\n",
        "    -O /tmp/sarcasm.json"
      ],
      "execution_count": 24,
      "outputs": [
        {
          "output_type": "stream",
          "text": [
            "--2020-06-21 21:15:35--  https://storage.googleapis.com/laurencemoroney-blog.appspot.com/sarcasm.json\n",
            "Resolving storage.googleapis.com (storage.googleapis.com)... 74.125.203.128, 2404:6800:4008:c06::80\n",
            "Connecting to storage.googleapis.com (storage.googleapis.com)|74.125.203.128|:443... connected.\n",
            "HTTP request sent, awaiting response... 200 OK\n",
            "Length: 5643545 (5.4M) [application/json]\n",
            "Saving to: ‘/tmp/sarcasm.json’\n",
            "\n",
            "\r/tmp/sarcasm.json     0%[                    ]       0  --.-KB/s               \r/tmp/sarcasm.json   100%[===================>]   5.38M  --.-KB/s    in 0.05s   \n",
            "\n",
            "2020-06-21 21:15:35 (109 MB/s) - ‘/tmp/sarcasm.json’ saved [5643545/5643545]\n",
            "\n"
          ],
          "name": "stdout"
        }
      ]
    },
    {
      "cell_type": "code",
      "metadata": {
        "id": "F9Oqu6NfvH90",
        "colab_type": "code",
        "colab": {}
      },
      "source": [
        "with open(\"/tmp/sarcasm.json\", 'r') as f:\n",
        "  datastore = json.load(f)\n",
        "sentences = []\n",
        "labels = []\n",
        "\n",
        "for item in datastore:\n",
        "  sentences.append(item[\"headline\"])\n",
        "  labels.append(item[\"is_sarcastic\"])"
      ],
      "execution_count": 25,
      "outputs": []
    },
    {
      "cell_type": "code",
      "metadata": {
        "id": "XQ8Q72DjvylQ",
        "colab_type": "code",
        "colab": {}
      },
      "source": [
        "training_senteces = sentences[:training_size]\n",
        "testing_senteces = sentences[training_size:]\n",
        "training_labels = labels[:training_size]\n",
        "testing_labels = labels[training_size:]\n"
      ],
      "execution_count": 26,
      "outputs": []
    },
    {
      "cell_type": "code",
      "metadata": {
        "id": "pu867JsKwaJE",
        "colab_type": "code",
        "colab": {}
      },
      "source": [
        "tokenizer = Tokenizer(num_words=vocab_size,oov_token=oov_tok)\n",
        "tokenizer.fit_on_texts(training_senteces)\n",
        "\n",
        "word_index = tokenizer.word_index\n",
        "\n",
        "training_sequences = tokenizer.texts_to_sequences(training_senteces)\n",
        "training_padded = pad_sequences(training_sequences,maxlen=max_lenght,padding=padding_type,truncating= trunc_type)\n",
        "\n",
        "\n",
        "testing_sequences = tokenizer.texts_to_sequences(testing_senteces)\n",
        "testing_padded = pad_sequences(testing_sequences, maxlen=max_lenght, padding=padding_type, truncating=trunc_type)\n"
      ],
      "execution_count": 34,
      "outputs": []
    },
    {
      "cell_type": "code",
      "metadata": {
        "id": "1Y-m1uWfxyL9",
        "colab_type": "code",
        "colab": {}
      },
      "source": [
        "import numpy as np\n",
        "training_padded = np.array(training_padded)\n",
        "training_labels = np.array(training_labels)\n",
        "testing_padded = np.array(testing_padded)\n",
        "testing_labels = np.array(testing_labels)"
      ],
      "execution_count": 35,
      "outputs": []
    },
    {
      "cell_type": "code",
      "metadata": {
        "id": "FNP3HmKzzP9e",
        "colab_type": "code",
        "colab": {}
      },
      "source": [
        "model = tf.keras.Sequential([\n",
        "                            tf.keras.layers.Embedding(vocab_size,embedding_dim,input_length=max_lenght),\n",
        "                            tf.keras.layers.GlobalAveragePooling1D(),\n",
        "                            tf.keras.layers.Dense(24,activation=\"relu\"),\n",
        "                            tf.keras.layers.Dense(1,activation=\"sigmoid\")\n",
        "])\n",
        "model.compile(loss = \"binary_crossentropy\",optimizer=\"adam\",metrics =[\"accuracy\"])\n"
      ],
      "execution_count": 37,
      "outputs": []
    },
    {
      "cell_type": "code",
      "metadata": {
        "id": "kn82dXVXz862",
        "colab_type": "code",
        "colab": {
          "base_uri": "https://localhost:8080/",
          "height": 289
        },
        "outputId": "4bad86b7-0ad7-4818-d110-b3e6ac948e92"
      },
      "source": [
        "model.summary()"
      ],
      "execution_count": 38,
      "outputs": [
        {
          "output_type": "stream",
          "text": [
            "Model: \"sequential_1\"\n",
            "_________________________________________________________________\n",
            "Layer (type)                 Output Shape              Param #   \n",
            "=================================================================\n",
            "embedding_1 (Embedding)      (None, 100, 16)           160000    \n",
            "_________________________________________________________________\n",
            "global_average_pooling1d_1 ( (None, 16)                0         \n",
            "_________________________________________________________________\n",
            "dense_2 (Dense)              (None, 24)                408       \n",
            "_________________________________________________________________\n",
            "dense_3 (Dense)              (None, 1)                 25        \n",
            "=================================================================\n",
            "Total params: 160,433\n",
            "Trainable params: 160,433\n",
            "Non-trainable params: 0\n",
            "_________________________________________________________________\n"
          ],
          "name": "stdout"
        }
      ]
    },
    {
      "cell_type": "code",
      "metadata": {
        "id": "DX-U8k6H0NRj",
        "colab_type": "code",
        "colab": {
          "base_uri": "https://localhost:8080/",
          "height": 1000
        },
        "outputId": "fb3eaf16-d263-4fee-9b03-bab33089d6dd"
      },
      "source": [
        "num_epochs = 30\n",
        "history = model.fit(training_padded,training_labels,epochs = num_epochs,validation_data=(testing_padded,testing_labels),verbose =2)"
      ],
      "execution_count": 39,
      "outputs": [
        {
          "output_type": "stream",
          "text": [
            "Epoch 1/30\n",
            "625/625 - 2s - loss: 0.6644 - accuracy: 0.5925 - val_loss: 0.5722 - val_accuracy: 0.7482\n",
            "Epoch 2/30\n",
            "625/625 - 2s - loss: 0.4240 - accuracy: 0.8352 - val_loss: 0.3857 - val_accuracy: 0.8346\n",
            "Epoch 3/30\n",
            "625/625 - 2s - loss: 0.3058 - accuracy: 0.8795 - val_loss: 0.3493 - val_accuracy: 0.8541\n",
            "Epoch 4/30\n",
            "625/625 - 2s - loss: 0.2553 - accuracy: 0.8995 - val_loss: 0.3417 - val_accuracy: 0.8550\n",
            "Epoch 5/30\n",
            "625/625 - 2s - loss: 0.2217 - accuracy: 0.9144 - val_loss: 0.3413 - val_accuracy: 0.8565\n",
            "Epoch 6/30\n",
            "625/625 - 2s - loss: 0.1958 - accuracy: 0.9237 - val_loss: 0.3501 - val_accuracy: 0.8559\n",
            "Epoch 7/30\n",
            "625/625 - 2s - loss: 0.1735 - accuracy: 0.9344 - val_loss: 0.3609 - val_accuracy: 0.8527\n",
            "Epoch 8/30\n",
            "625/625 - 2s - loss: 0.1552 - accuracy: 0.9428 - val_loss: 0.3730 - val_accuracy: 0.8547\n",
            "Epoch 9/30\n",
            "625/625 - 2s - loss: 0.1406 - accuracy: 0.9488 - val_loss: 0.4066 - val_accuracy: 0.8420\n",
            "Epoch 10/30\n",
            "625/625 - 2s - loss: 0.1279 - accuracy: 0.9545 - val_loss: 0.4371 - val_accuracy: 0.8401\n",
            "Epoch 11/30\n",
            "625/625 - 2s - loss: 0.1157 - accuracy: 0.9599 - val_loss: 0.4292 - val_accuracy: 0.8481\n",
            "Epoch 12/30\n",
            "625/625 - 2s - loss: 0.1060 - accuracy: 0.9638 - val_loss: 0.4755 - val_accuracy: 0.8337\n",
            "Epoch 13/30\n",
            "625/625 - 2s - loss: 0.0971 - accuracy: 0.9675 - val_loss: 0.4743 - val_accuracy: 0.8445\n",
            "Epoch 14/30\n",
            "625/625 - 2s - loss: 0.0893 - accuracy: 0.9704 - val_loss: 0.4986 - val_accuracy: 0.8439\n",
            "Epoch 15/30\n",
            "625/625 - 2s - loss: 0.0816 - accuracy: 0.9731 - val_loss: 0.5274 - val_accuracy: 0.8377\n",
            "Epoch 16/30\n",
            "625/625 - 2s - loss: 0.0745 - accuracy: 0.9764 - val_loss: 0.5522 - val_accuracy: 0.8368\n",
            "Epoch 17/30\n",
            "625/625 - 2s - loss: 0.0693 - accuracy: 0.9779 - val_loss: 0.5821 - val_accuracy: 0.8334\n",
            "Epoch 18/30\n",
            "625/625 - 2s - loss: 0.0644 - accuracy: 0.9805 - val_loss: 0.6153 - val_accuracy: 0.8322\n",
            "Epoch 19/30\n",
            "625/625 - 2s - loss: 0.0576 - accuracy: 0.9822 - val_loss: 0.6424 - val_accuracy: 0.8305\n",
            "Epoch 20/30\n",
            "625/625 - 2s - loss: 0.0539 - accuracy: 0.9843 - val_loss: 0.6729 - val_accuracy: 0.8290\n",
            "Epoch 21/30\n",
            "625/625 - 2s - loss: 0.0487 - accuracy: 0.9847 - val_loss: 0.7048 - val_accuracy: 0.8274\n",
            "Epoch 22/30\n",
            "625/625 - 2s - loss: 0.0479 - accuracy: 0.9842 - val_loss: 0.7494 - val_accuracy: 0.8207\n",
            "Epoch 23/30\n",
            "625/625 - 2s - loss: 0.0412 - accuracy: 0.9883 - val_loss: 0.7860 - val_accuracy: 0.8196\n",
            "Epoch 24/30\n",
            "625/625 - 2s - loss: 0.0395 - accuracy: 0.9883 - val_loss: 0.8131 - val_accuracy: 0.8183\n",
            "Epoch 25/30\n",
            "625/625 - 2s - loss: 0.0367 - accuracy: 0.9890 - val_loss: 0.8351 - val_accuracy: 0.8205\n",
            "Epoch 26/30\n",
            "625/625 - 2s - loss: 0.0341 - accuracy: 0.9897 - val_loss: 0.8665 - val_accuracy: 0.8170\n",
            "Epoch 27/30\n",
            "625/625 - 2s - loss: 0.0317 - accuracy: 0.9912 - val_loss: 0.8990 - val_accuracy: 0.8165\n",
            "Epoch 28/30\n",
            "625/625 - 2s - loss: 0.0287 - accuracy: 0.9921 - val_loss: 0.9535 - val_accuracy: 0.8116\n",
            "Epoch 29/30\n",
            "625/625 - 2s - loss: 0.0265 - accuracy: 0.9927 - val_loss: 0.9732 - val_accuracy: 0.8113\n",
            "Epoch 30/30\n",
            "625/625 - 2s - loss: 0.0250 - accuracy: 0.9933 - val_loss: 1.0124 - val_accuracy: 0.8122\n"
          ],
          "name": "stdout"
        }
      ]
    },
    {
      "cell_type": "code",
      "metadata": {
        "id": "bBfK3Err0qzU",
        "colab_type": "code",
        "colab": {
          "base_uri": "https://localhost:8080/",
          "height": 541
        },
        "outputId": "7b8756b9-7a54-4b1f-8124-713ce754635f"
      },
      "source": [
        "import matplotlib.pyplot as plt\n",
        "\n",
        "\n",
        "def plot_graphs(history, string):\n",
        "  plt.plot(history.history[string])\n",
        "  plt.plot(history.history['val_'+string])\n",
        "  plt.xlabel(\"Epochs\")\n",
        "  plt.ylabel(string)\n",
        "  plt.legend([string, 'val_'+string])\n",
        "  plt.show()\n",
        "  \n",
        "plot_graphs(history, \"accuracy\")\n",
        "plot_graphs(history, \"loss\")"
      ],
      "execution_count": 40,
      "outputs": [
        {
          "output_type": "display_data",
          "data": {
            "image/png": "[encoded data removed]",
            "text/plain": [
              "<Figure size 432x288 with 1 Axes>"
            ]
          },
          "metadata": {
            "tags": [],
            "needs_background": "light"
          }
        },
        {
          "output_type": "display_data",
          "data": {
            "image/png": "[encoded data removed]",
            "text/plain": [
              "<Figure size 432x288 with 1 Axes>"
            ]
          },
          "metadata": {
            "tags": [],
            "needs_background": "light"
          }
        }
      ]
    },
    {
      "cell_type": "code",
      "metadata": {
        "id": "BAfn_RaY1P97",
        "colab_type": "code",
        "colab": {
          "base_uri": "https://localhost:8080/",
          "height": 85
        },
        "outputId": "6c580232-f01a-4742-ce1d-8d3a9b3ee915"
      },
      "source": [
        "sentence = [\"granny starting to fear spiders in the garden might be real\", \"game of thrones season finale showing this sunday night\"]\n",
        "equences = tokenizer.texts_to_sequences(sentence)\n",
        "padded = pad_sequences(sequences, maxlen=max_lenght, padding=padding_type, truncating=trunc_type)\n",
        "print(model.predict(padded))"
      ],
      "execution_count": 43,
      "outputs": [
        {
          "output_type": "stream",
          "text": [
            "[[1.8467009e-02]\n",
            " [4.7465343e-02]\n",
            " [9.4253683e-01]\n",
            " [6.3607486e-06]]\n"
          ],
          "name": "stdout"
        }
      ]
    },
    {
      "cell_type": "code",
      "metadata": {
        "id": "MojNaN-w1e59",
        "colab_type": "code",
        "colab": {}
      },
      "source": [
        ""
      ],
      "execution_count": null,
      "outputs": []
    }
  ]
}