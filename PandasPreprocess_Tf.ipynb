{
  "nbformat": 4,
  "nbformat_minor": 0,
  "metadata": {
    "colab": {
      "name": "PandasPreprocess-Tf",
      "provenance": [],
      "collapsed_sections": [],
      "authorship_tag": "ABX9TyNlwIvsCV/czCB74pxMyudy",
      "include_colab_link": true
    },
    "kernelspec": {
      "name": "python3",
      "display_name": "Python 3"
    }
  },
  "cells": [
    {
      "cell_type": "markdown",
      "metadata": {
        "id": "view-in-github",
        "colab_type": "text"
      },
      "source": [
        "<a href=\"https://colab.research.google.com/github/Boyraci41/Neural-Network/blob/master/PandasPreprocess_Tf.ipynb\" target=\"_parent\"><img src=\"https://colab.research.google.com/assets/colab-badge.svg\" alt=\"Open In Colab\"/></a>"
      ]
    },
    {
      "cell_type": "code",
      "metadata": {
        "id": "TMEJ0LU1mcYG",
        "colab_type": "code",
        "colab": {}
      },
      "source": [
        "import pandas as pd\n",
        "import tensorflow as tf"
      ],
      "execution_count": 0,
      "outputs": []
    },
    {
      "cell_type": "code",
      "metadata": {
        "id": "-HboSsgSn3YJ",
        "colab_type": "code",
        "colab": {
          "base_uri": "https://localhost:8080/",
          "height": 51
        },
        "outputId": "5b5970f9-2f31-4db0-ad2e-f6ce5a5c29e8"
      },
      "source": [
        "csv_file=tf.keras.utils.get_file(\"heart.csv\", 'https://storage.googleapis.com/applied-dl/heart.csv')"
      ],
      "execution_count": 2,
      "outputs": [
        {
          "output_type": "stream",
          "text": [
            "Downloading data from https://storage.googleapis.com/applied-dl/heart.csv\n",
            "16384/13273 [=====================================] - 0s 0us/step\n"
          ],
          "name": "stdout"
        }
      ]
    },
    {
      "cell_type": "code",
      "metadata": {
        "id": "_AiiH7S1oFHI",
        "colab_type": "code",
        "colab": {}
      },
      "source": [
        "df=pd.read_csv(csv_file)\n",
        "\n",
        "df[\"thal\"]=pd.Categorical(df[\"thal\"])\n",
        "df[\"thal\"]=df.thal.cat.codes            #convert to categorical data\n"
      ],
      "execution_count": 0,
      "outputs": []
    },
    {
      "cell_type": "code",
      "metadata": {
        "id": "-9FqMazFoLze",
        "colab_type": "code",
        "colab": {}
      },
      "source": [
        "target=df.pop(\"target\")\n",
        "\n"
      ],
      "execution_count": 0,
      "outputs": []
    },
    {
      "cell_type": "code",
      "metadata": {
        "id": "lrZr-nlzr8q2",
        "colab_type": "code",
        "colab": {}
      },
      "source": [
        "dataset = tf.data.Dataset.from_tensor_slices((df.values, target.values))"
      ],
      "execution_count": 0,
      "outputs": []
    },
    {
      "cell_type": "code",
      "metadata": {
        "id": "YDEU9K6kpZaE",
        "colab_type": "code",
        "colab": {
          "base_uri": "https://localhost:8080/",
          "height": 187
        },
        "outputId": "a43987d5-4c72-4801-f14a-40027f91c635"
      },
      "source": [
        "for feat,targ in dataset.take(5):\n",
        "  print(\"Features : {} ,Target : {} \".format(feat,targ))"
      ],
      "execution_count": 85,
      "outputs": [
        {
          "output_type": "stream",
          "text": [
            "Features : [ 63.    1.    1.  145.  233.    1.    2.  150.    0.    2.3   3.    0.\n",
            "   2. ] ,Target : 0 \n",
            "Features : [ 67.    1.    4.  160.  286.    0.    2.  108.    1.    1.5   2.    3.\n",
            "   3. ] ,Target : 1 \n",
            "Features : [ 67.    1.    4.  120.  229.    0.    2.  129.    1.    2.6   2.    2.\n",
            "   4. ] ,Target : 0 \n",
            "Features : [ 37.    1.    3.  130.  250.    0.    0.  187.    0.    3.5   3.    0.\n",
            "   3. ] ,Target : 0 \n",
            "Features : [ 41.    0.    2.  130.  204.    0.    2.  172.    0.    1.4   1.    0.\n",
            "   3. ] ,Target : 0 \n"
          ],
          "name": "stdout"
        }
      ]
    },
    {
      "cell_type": "code",
      "metadata": {
        "id": "ebv2Dh_grcql",
        "colab_type": "code",
        "colab": {
          "base_uri": "https://localhost:8080/",
          "height": 272
        },
        "outputId": "99a982ca-f5c6-4a68-8d18-04a2c120e849"
      },
      "source": [
        "tf.constant([df[\"thal\"]])\n"
      ],
      "execution_count": 86,
      "outputs": [
        {
          "output_type": "execute_result",
          "data": {
            "text/plain": [
              "<tf.Tensor: shape=(1, 303), dtype=int32, numpy=\n",
              "array([[2, 3, 4, 3, 3, 3, 3, 3, 4, 4, 2, 3, 2, 4, 4, 3, 4, 3, 3, 3, 3, 3,\n",
              "        3, 4, 4, 3, 3, 3, 3, 4, 3, 4, 3, 4, 3, 3, 4, 2, 4, 3, 4, 3, 4, 4,\n",
              "        2, 3, 3, 4, 3, 3, 4, 3, 3, 3, 4, 3, 3, 3, 3, 3, 3, 4, 4, 3, 3, 4,\n",
              "        4, 2, 3, 3, 4, 3, 4, 3, 3, 4, 4, 3, 3, 4, 4, 3, 3, 3, 3, 4, 4, 4,\n",
              "        3, 3, 4, 3, 4, 4, 3, 4, 3, 3, 3, 4, 3, 4, 4, 3, 3, 4, 4, 4, 4, 4,\n",
              "        3, 3, 3, 3, 4, 3, 4, 3, 4, 4, 3, 3, 2, 4, 4, 2, 3, 3, 4, 4, 3, 4,\n",
              "        3, 3, 4, 2, 4, 4, 3, 4, 3, 3, 3, 3, 3, 3, 3, 3, 3, 4, 4, 4, 4, 4,\n",
              "        4, 3, 3, 3, 4, 3, 4, 3, 4, 3, 3, 3, 3, 3, 3, 3, 4, 3, 3, 3, 3, 3,\n",
              "        3, 3, 3, 3, 3, 3, 3, 4, 4, 3, 3, 3, 3, 3, 3, 3, 3, 4, 3, 4, 3, 2,\n",
              "        4, 4, 3, 3, 3, 3, 3, 3, 4, 3, 3, 3, 3, 3, 2, 2, 4, 3, 4, 2, 4, 3,\n",
              "        3, 4, 3, 3, 3, 3, 4, 3, 4, 3, 4, 2, 2, 4, 3, 4, 3, 2, 4, 3, 3, 2,\n",
              "        4, 4, 4, 4, 3, 0, 3, 3, 3, 3, 1, 4, 3, 3, 3, 4, 3, 4, 3, 3, 3, 4,\n",
              "        3, 3, 4, 4, 4, 4, 3, 3, 4, 3, 4, 3, 4, 4, 3, 4, 4, 3, 4, 4, 3, 3,\n",
              "        3, 3, 3, 3, 4, 4, 4, 4, 4, 4, 4, 3, 2, 4, 4, 4, 4]], dtype=int32)>"
            ]
          },
          "metadata": {
            "tags": []
          },
          "execution_count": 86
        }
      ]
    },
    {
      "cell_type": "code",
      "metadata": {
        "id": "QLFIiSf1sZ8c",
        "colab_type": "code",
        "colab": {}
      },
      "source": [
        "train_dataset=dataset.shuffle(len(df)).batch(2)\n",
        "\n"
      ],
      "execution_count": 0,
      "outputs": []
    },
    {
      "cell_type": "code",
      "metadata": {
        "id": "vvCysFaSsnHX",
        "colab_type": "code",
        "colab": {}
      },
      "source": [
        "def get_compiled_model():\n",
        "  model=tf.keras.Sequential([tf.keras.layers.Dense(10,activation=\"relu\"),\n",
        "                             tf.keras.layers.Dense(10, activation='relu'),\n",
        "                             tf.keras.layers.Dense(1)])\n",
        "  \n",
        "  model.compile(optimizer=\"adam\",loss=\"binary_crossentropy\",metrics=[\"accuracy\"])\n",
        "\n",
        "  return model"
      ],
      "execution_count": 0,
      "outputs": []
    },
    {
      "cell_type": "code",
      "metadata": {
        "id": "G-8VX1s9tlwE",
        "colab_type": "code",
        "colab": {
          "base_uri": "https://localhost:8080/",
          "height": 666
        },
        "outputId": "65baf92b-f64a-4a0c-e7fe-87444672350b"
      },
      "source": [
        "model=get_compiled_model()\n",
        "model.fit(train_dataset,epochs=15)"
      ],
      "execution_count": 89,
      "outputs": [
        {
          "output_type": "stream",
          "text": [
            "Epoch 1/15\n",
            "WARNING:tensorflow:Layer dense_9 is casting an input tensor from dtype float64 to the layer's dtype of float32, which is new behavior in TensorFlow 2.  The layer has dtype float32 because it's dtype defaults to floatx.\n",
            "\n",
            "If you intended to run this layer in float32, you can safely ignore this warning. If in doubt, this warning is likely only an issue if you are porting a TensorFlow 1.X model to TensorFlow 2.\n",
            "\n",
            "To change all layers to have dtype float64 by default, call `tf.keras.backend.set_floatx('float64')`. To change just this layer, pass dtype='float64' to the layer constructor. If you are the author of this layer, you can disable autocasting by passing autocast=False to the base Layer constructor.\n",
            "\n",
            "152/152 [==============================] - 0s 1ms/step - loss: 11.0721 - accuracy: 0.2739\n",
            "Epoch 2/15\n",
            "152/152 [==============================] - 0s 1ms/step - loss: 11.0721 - accuracy: 0.2739\n",
            "Epoch 3/15\n",
            "152/152 [==============================] - 0s 1ms/step - loss: 11.0721 - accuracy: 0.2739\n",
            "Epoch 4/15\n",
            "152/152 [==============================] - 0s 1ms/step - loss: 11.0721 - accuracy: 0.2739\n",
            "Epoch 5/15\n",
            "152/152 [==============================] - 0s 1ms/step - loss: 11.0721 - accuracy: 0.2739\n",
            "Epoch 6/15\n",
            "152/152 [==============================] - 0s 1ms/step - loss: 11.0721 - accuracy: 0.2739\n",
            "Epoch 7/15\n",
            "152/152 [==============================] - 0s 1ms/step - loss: 11.0721 - accuracy: 0.2739\n",
            "Epoch 8/15\n",
            "152/152 [==============================] - 0s 1ms/step - loss: 11.0721 - accuracy: 0.2739\n",
            "Epoch 9/15\n",
            "152/152 [==============================] - 0s 1ms/step - loss: 11.0721 - accuracy: 0.2739\n",
            "Epoch 10/15\n",
            "152/152 [==============================] - 0s 1ms/step - loss: 11.0721 - accuracy: 0.2739\n",
            "Epoch 11/15\n",
            "152/152 [==============================] - 0s 1ms/step - loss: 11.0721 - accuracy: 0.2739\n",
            "Epoch 12/15\n",
            "152/152 [==============================] - 0s 1ms/step - loss: 11.0721 - accuracy: 0.2739\n",
            "Epoch 13/15\n",
            "152/152 [==============================] - 0s 1ms/step - loss: 11.0721 - accuracy: 0.2739\n",
            "Epoch 14/15\n",
            "152/152 [==============================] - 0s 1ms/step - loss: 11.0721 - accuracy: 0.2739\n",
            "Epoch 15/15\n",
            "152/152 [==============================] - 0s 1ms/step - loss: 11.0721 - accuracy: 0.2739\n"
          ],
          "name": "stdout"
        },
        {
          "output_type": "execute_result",
          "data": {
            "text/plain": [
              "<tensorflow.python.keras.callbacks.History at 0x7fb156a8a198>"
            ]
          },
          "metadata": {
            "tags": []
          },
          "execution_count": 89
        }
      ]
    },
    {
      "cell_type": "code",
      "metadata": {
        "id": "_b_0H4Z6tvZm",
        "colab_type": "code",
        "colab": {}
      },
      "source": [
        ""
      ],
      "execution_count": 0,
      "outputs": []
    }
  ]
}