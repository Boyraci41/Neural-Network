{
  "nbformat": 4,
  "nbformat_minor": 0,
  "metadata": {
    "colab": {
      "name": "RNNcell",
      "provenance": [],
      "collapsed_sections": [],
      "authorship_tag": "ABX9TyOSC5WiSkXJYHxv9KuT7dJ6",
      "include_colab_link": true
    },
    "kernelspec": {
      "name": "python3",
      "display_name": "Python 3"
    }
  },
  "cells": [
    {
      "cell_type": "markdown",
      "metadata": {
        "id": "view-in-github",
        "colab_type": "text"
      },
      "source": [
        "<a href=\"https://colab.research.google.com/github/Boyraci41/Neural-Network/blob/master/RNNcell.ipynb\" target=\"_parent\"><img src=\"https://colab.research.google.com/assets/colab-badge.svg\" alt=\"Open In Colab\"/></a>"
      ]
    },
    {
      "cell_type": "code",
      "metadata": {
        "id": "oz8ds7dPd5od",
        "colab_type": "code",
        "colab": {}
      },
      "source": [
        "import tensorflow as tf"
      ],
      "execution_count": 0,
      "outputs": []
    },
    {
      "cell_type": "code",
      "metadata": {
        "id": "IOQW0gKHeQKX",
        "colab_type": "code",
        "colab": {}
      },
      "source": [
        "class MyRNNCell(tf.keras.layers.Layer):\n",
        "  def __init__(self,rnn_units,input_dim,output_dim,):\n",
        "    super(MyRNNCell,self).__init__()\n",
        "\n",
        "    self.W_xh=self.add_weight([rnn_units,input_dim])\n",
        "    self.W_hh=self.add_weight([rnn_units,rnn_units])\n",
        "    self.W.hy=self.add_weight([output_dim,rnn_units])\n",
        "\n",
        "\n",
        "    self.h=tf.zeros([rnn_units,1])\n",
        "\n",
        "\n",
        "\n",
        "\n",
        "  def call(self,x):\n",
        "    self.h=tf.math.tanh(self.W_hh*self.h +self.W_xh*x)\n",
        "\n",
        "    output=self.W_hy*self.h\n",
        "\n",
        "    return output ,self.h\n",
        "\n",
        "\n",
        " \"\"\"Source :MITDeepLearning   \"\"\""
      ],
      "execution_count": 0,
      "outputs": []
    },
    {
      "cell_type": "code",
      "metadata": {
        "id": "QLAC6MSRgk3A",
        "colab_type": "code",
        "colab": {}
      },
      "source": [
        ""
      ],
      "execution_count": 0,
      "outputs": []
    }
  ]
}