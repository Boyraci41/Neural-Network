{
  "nbformat": 4,
  "nbformat_minor": 0,
  "metadata": {
    "colab": {
      "name": "  GRADİENT DESCENT",
      "provenance": [],
      "collapsed_sections": [],
      "authorship_tag": "ABX9TyN3JeLmhELVG8qSuVzPQVy0",
      "include_colab_link": true
    },
    "kernelspec": {
      "name": "python3",
      "display_name": "Python 3"
    }
  },
  "cells": [
    {
      "cell_type": "markdown",
      "metadata": {
        "id": "view-in-github",
        "colab_type": "text"
      },
      "source": [
        "<a href=\"https://colab.research.google.com/github/Boyraci41/Neural-Network/blob/master/GRAD%C4%B0ENT_DESCENT.ipynb\" target=\"_parent\"><img src=\"https://colab.research.google.com/assets/colab-badge.svg\" alt=\"Open In Colab\"/></a>"
      ]
    },
    {
      "cell_type": "code",
      "metadata": {
        "id": "hyd3XgmBINh_",
        "colab_type": "code",
        "colab": {}
      },
      "source": [
        " \"\"\"  \n",
        "    GRADİENT DESCENT\n",
        "\n",
        "    1-initialize weights randomly ~ N(0,o^2) Normal dist.\n",
        "    2-Loop until convergence:\n",
        "        Compute Gradient ->dJ(W)/dw\n",
        "\n",
        "        Update Weights W <-W - ndJ(W)/dw\n",
        "\n",
        "    3-Return weights\n",
        "\n",
        "\n",
        "\n",
        "\n",
        "\n",
        "\n",
        "\n",
        "\n",
        " \"\"\"\n"
      ],
      "execution_count": 0,
      "outputs": []
    },
    {
      "cell_type": "code",
      "metadata": {
        "id": "3UsXpOwoIoGD",
        "colab_type": "code",
        "colab": {}
      },
      "source": [
        "\n",
        "\n",
        "\n"
      ],
      "execution_count": 0,
      "outputs": []
    }
  ]
}